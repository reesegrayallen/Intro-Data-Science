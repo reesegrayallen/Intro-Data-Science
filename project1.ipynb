{
 "cells": [
  {
   "cell_type": "markdown",
   "metadata": {},
   "source": [
    "## World Progress"
   ]
  },
  {
   "cell_type": "markdown",
   "metadata": {},
   "source": [
    "In this project, you'll explore data from [Gapminder.org](http://gapminder.org), a website dedicated to providing a fact-based view of the world and how it has changed. That site includes several data visualizations and presentations, but also publishes the raw data that we will use in this project to recreate and extend some of their most famous visualizations.\n",
    "\n",
    "The Gapminder website collects data from many sources and compiles them into tables that describe many countries around the world. All of the data they aggregate are published in the [Systema Globalis](https://github.com/open-numbers/ddf--gapminder--systema_globalis/blob/master/README.md). Their goal is \"to compile all public statistics; Social, Economic and Environmental; into a comparable total dataset.\" All data sets in this project are copied directly from the Systema Globalis without any changes.\n",
    "\n",
    "This project is dedicated to [Hans Rosling](https://en.wikipedia.org/wiki/Hans_Rosling) (1948-2017), who championed the use of data to understand and prioritize global development challenges."
   ]
  },
  {
   "cell_type": "markdown",
   "metadata": {},
   "source": [
    "### Logistics\n",
    "\n",
    "**Deadline.** This project is due at 11:59pm on 9/26. Projects will be accepted up to 1 day (24 hours) late; a project submitted less than 24 hours after the deadline will receive 70% credit, and a project submitted 24 hours or more after the deadline will receive no credit. It's **much** better to be early than late, so start working now.\n",
    "\n",
    "**Partners.** You may work with one other partner; your partner must be from your assigned lab section. Only one of you is required to submit the project. On [okpy.org](http://okpy.org), the person who submits should also designate their partner so that both of you receive credit.\n",
    "\n",
    "**Rules.** Don't share your code with anybody but your partner. You are allowed to post on Slack, as long as it's in the general chat room, so that everyone can see it. Also, try not to be too specific about the solutions--I will try to advise on general strategies.\n",
    "\n",
    "**Support.** You are not alone! Come to office hours, post on Slack, send me an email, or send the TA an email. If you're ever feeling overwhelmed or don't know how to make progress, it's totally fine to reach out and ask for help. \n",
    "\n",
    "**Tests.** The tests that are given are **not comprehensive** and passing the tests for a question **does not** mean that you answered the question correctly. Tests usually only check that your table has the correct column labels. However, more tests will be applied to verify the correctness of your submission in order to assign your final score, so be careful and check your work! You might want to create your own checks along the way to see if your answers make sense. Additionally, before you submit, make sure that none of your cells take a very long time to run (several minutes).\n",
    "\n",
    "**Advice.** Develop your answers incrementally. To perform a complicated table manipulation, break it up into steps, perform each step on a different line, give a new name to each result, and check that each intermediate result is what you expect. You can add any additional names or functions you want to the provided cells. Make sure that you are using distinct and meaningful variable names throughout the notebook. Along that line, **DO NOT** reuse the variable names that we use when we grade your answers. For example, in Question 1 of the Global Poverty section, we ask you to assign an answer to `latest`. Do not reassign the variable name `latest` to anything else in your notebook, otherwise there is the chance that our tests grade against what `latest` was reassigned to.\n",
    "\n",
    "You **never** have to use just one line in this project or any others. Use intermediate variables and multiple lines as much as you would like!  \n",
    "\n",
    "To get started, load `datascience`, `numpy`, `plots`, and `ok`."
   ]
  },
  {
   "cell_type": "code",
   "execution_count": 1,
   "metadata": {},
   "outputs": [
    {
     "name": "stdout",
     "output_type": "stream",
     "text": [
      "=====================================================================\n",
      "Assignment: World Progress\n",
      "OK, version v1.14.15\n",
      "=====================================================================\n",
      "\n",
      "Successfully logged in as rga2uz@virginia.edu\n"
     ]
    }
   ],
   "source": [
    "from datascience import *\n",
    "import numpy as np\n",
    "\n",
    "%matplotlib inline\n",
    "import matplotlib.pyplot as plots\n",
    "plots.style.use('fivethirtyeight')\n",
    "\n",
    "from client.api.notebook import Notebook\n",
    "ok = Notebook('project1.ok')\n",
    "_ = ok.auth(inline=True)"
   ]
  },
  {
   "cell_type": "markdown",
   "metadata": {
    "deletable": false,
    "editable": false
   },
   "source": [
    "## 1. Global Population Growth\n"
   ]
  },
  {
   "cell_type": "markdown",
   "metadata": {
    "deletable": false,
    "editable": false
   },
   "source": [
    "The global population of humans reached 1 billion around 1800, 3 billion around 1960, and 7 billion around 2011. The potential impact of exponential population growth has concerned scientists, economists, and politicians alike.\n",
    "\n",
    "The UN Population Division estimates that the world population will likely continue to grow throughout the 21st century, but at a slower rate, perhaps reaching 11 billion by 2100. However, the UN does not rule out scenarios of more extreme growth.\n",
    "\n",
    "<a href=\"http://www.pewresearch.org/fact-tank/2015/06/08/scientists-more-worried-than-public-about-worlds-growing-population/ft_15-06-04_popcount/\"> \n",
    " <img src=\"pew_population_projection.png\"/> \n",
    "</a>\n",
    "\n",
    "In this section, we will examine some of the factors that influence population growth and how they are changing around the world.\n",
    "\n",
    "The first table we will consider is the total population of each country over time. Run the cell below."
   ]
  },
  {
   "cell_type": "code",
   "execution_count": 3,
   "metadata": {
    "deletable": false,
    "editable": false
   },
   "outputs": [
    {
     "data": {
      "text/html": [
       "<table border=\"1\" class=\"dataframe\">\n",
       "    <thead>\n",
       "        <tr>\n",
       "            <th>geo</th> <th>time</th> <th>population_total</th>\n",
       "        </tr>\n",
       "    </thead>\n",
       "    <tbody>\n",
       "        <tr>\n",
       "            <td>abw </td> <td>1800</td> <td>19286           </td>\n",
       "        </tr>\n",
       "        <tr>\n",
       "            <td>abw </td> <td>1801</td> <td>19286           </td>\n",
       "        </tr>\n",
       "        <tr>\n",
       "            <td>abw </td> <td>1802</td> <td>19286           </td>\n",
       "        </tr>\n",
       "    </tbody>\n",
       "</table>\n",
       "<p>... (87792 rows omitted)</p>"
      ],
      "text/plain": [
       "<IPython.core.display.HTML object>"
      ]
     },
     "metadata": {},
     "output_type": "display_data"
    }
   ],
   "source": [
    "population = Table.read_table('population.csv')\n",
    "population.show(3)"
   ]
  },
  {
   "cell_type": "markdown",
   "metadata": {},
   "source": [
    "**Note:** The population csv file can also be found [here](https://github.com/open-numbers/ddf--gapminder--systema_globalis/raw/master/ddf--datapoints--population_total--by--geo--time.csv). The data for this project was downloaded in February, 2017."
   ]
  },
  {
   "cell_type": "markdown",
   "metadata": {
    "deletable": false,
    "editable": false
   },
   "source": [
    "### Bangladesh\n",
    "\n",
    "In the `population` table, the `geo` column contains three-letter codes established by the [International Organization for Standardization](https://en.wikipedia.org/wiki/International_Organization_for_Standardization) (ISO) in the [Alpha-3](https://en.wikipedia.org/wiki/ISO_3166-1_alpha-3#Current_codes) standard. We will begin by taking a close look at Bangladesh. Inspect the standard to find the 3-letter code for Bangladesh."
   ]
  },
  {
   "cell_type": "markdown",
   "metadata": {
    "deletable": false,
    "editable": false
   },
   "source": [
    "**Question 1.** Create a table called `b_pop` that has two columns labeled `time` and `population_total`. The first column should contain the years from 1970 through 2015 (including both 1970 and 2015) and the second should contain the population of Bangladesh in each of those years."
   ]
  },
  {
   "cell_type": "code",
   "execution_count": 4,
   "metadata": {
    "deletable": false
   },
   "outputs": [
    {
     "data": {
      "text/html": [
       "<table border=\"1\" class=\"dataframe\">\n",
       "    <thead>\n",
       "        <tr>\n",
       "            <th>time</th> <th>population_total</th>\n",
       "        </tr>\n",
       "    </thead>\n",
       "    <tbody>\n",
       "        <tr>\n",
       "            <td>1970</td> <td>65048701        </td>\n",
       "        </tr>\n",
       "        <tr>\n",
       "            <td>1971</td> <td>66417450        </td>\n",
       "        </tr>\n",
       "        <tr>\n",
       "            <td>1972</td> <td>67578486        </td>\n",
       "        </tr>\n",
       "        <tr>\n",
       "            <td>1973</td> <td>68658472        </td>\n",
       "        </tr>\n",
       "        <tr>\n",
       "            <td>1974</td> <td>69837960        </td>\n",
       "        </tr>\n",
       "        <tr>\n",
       "            <td>1975</td> <td>71247153        </td>\n",
       "        </tr>\n",
       "        <tr>\n",
       "            <td>1976</td> <td>72930206        </td>\n",
       "        </tr>\n",
       "        <tr>\n",
       "            <td>1977</td> <td>74848466        </td>\n",
       "        </tr>\n",
       "        <tr>\n",
       "            <td>1978</td> <td>76948378        </td>\n",
       "        </tr>\n",
       "        <tr>\n",
       "            <td>1979</td> <td>79141947        </td>\n",
       "        </tr>\n",
       "    </tbody>\n",
       "</table>\n",
       "<p>... (36 rows omitted)</p>"
      ],
      "text/plain": [
       "time | population_total\n",
       "1970 | 65048701\n",
       "1971 | 66417450\n",
       "1972 | 67578486\n",
       "1973 | 68658472\n",
       "1974 | 69837960\n",
       "1975 | 71247153\n",
       "1976 | 72930206\n",
       "1977 | 74848466\n",
       "1978 | 76948378\n",
       "1979 | 79141947\n",
       "... (36 rows omitted)"
      ]
     },
     "execution_count": 4,
     "metadata": {},
     "output_type": "execute_result"
    }
   ],
   "source": [
    "# Bangladesh Code = bgd\n",
    "\n",
    "b_pop = population.where(\"geo\",\"bgd\").where(\"time\", are.between(1970, 2016))\n",
    "b_pop = b_pop.drop(\"geo\")  # removes geo column\n",
    "b_pop\n"
   ]
  },
  {
   "cell_type": "code",
   "execution_count": 5,
   "metadata": {
    "deletable": false,
    "editable": false,
    "scrolled": false
   },
   "outputs": [
    {
     "name": "stdout",
     "output_type": "stream",
     "text": [
      "~~~~~~~~~~~~~~~~~~~~~~~~~~~~~~~~~~~~~~~~~~~~~~~~~~~~~~~~~~~~~~~~~~~~~\n",
      "Running tests\n",
      "\n",
      "---------------------------------------------------------------------\n",
      "Test summary\n",
      "    Passed: 3\n",
      "    Failed: 0\n",
      "[ooooooooook] 100.0% passed\n",
      "\n"
     ]
    }
   ],
   "source": [
    "_ = ok.grade('q1_1')"
   ]
  },
  {
   "cell_type": "markdown",
   "metadata": {
    "deletable": false,
    "editable": false
   },
   "source": [
    "Run the following cell to create a table called `b_five` that has the population of Bangladesh every five years. At a glance, it appears that the population of Bangladesh has been growing quickly indeed!"
   ]
  },
  {
   "cell_type": "code",
   "execution_count": 6,
   "metadata": {
    "deletable": false,
    "editable": false
   },
   "outputs": [
    {
     "data": {
      "text/html": [
       "<table border=\"1\" class=\"dataframe\">\n",
       "    <thead>\n",
       "        <tr>\n",
       "            <th>time</th> <th>population_total</th>\n",
       "        </tr>\n",
       "    </thead>\n",
       "    <tbody>\n",
       "        <tr>\n",
       "            <td>1970</td> <td>65,048,701      </td>\n",
       "        </tr>\n",
       "        <tr>\n",
       "            <td>1975</td> <td>71,247,153      </td>\n",
       "        </tr>\n",
       "        <tr>\n",
       "            <td>1980</td> <td>81,364,176      </td>\n",
       "        </tr>\n",
       "        <tr>\n",
       "            <td>1985</td> <td>93,015,182      </td>\n",
       "        </tr>\n",
       "        <tr>\n",
       "            <td>1990</td> <td>105,983,136     </td>\n",
       "        </tr>\n",
       "        <tr>\n",
       "            <td>1995</td> <td>118,427,768     </td>\n",
       "        </tr>\n",
       "        <tr>\n",
       "            <td>2000</td> <td>131,280,739     </td>\n",
       "        </tr>\n",
       "        <tr>\n",
       "            <td>2005</td> <td>142,929,979     </td>\n",
       "        </tr>\n",
       "        <tr>\n",
       "            <td>2010</td> <td>151,616,777     </td>\n",
       "        </tr>\n",
       "        <tr>\n",
       "            <td>2015</td> <td>160,995,642     </td>\n",
       "        </tr>\n",
       "    </tbody>\n",
       "</table>"
      ],
      "text/plain": [
       "time | population_total\n",
       "1970 | 65,048,701\n",
       "1975 | 71,247,153\n",
       "1980 | 81,364,176\n",
       "1985 | 93,015,182\n",
       "1990 | 105,983,136\n",
       "1995 | 118,427,768\n",
       "2000 | 131,280,739\n",
       "2005 | 142,929,979\n",
       "2010 | 151,616,777\n",
       "2015 | 160,995,642"
      ]
     },
     "execution_count": 6,
     "metadata": {},
     "output_type": "execute_result"
    }
   ],
   "source": [
    "b_pop.set_format('population_total', NumberFormatter)\n",
    "\n",
    "fives = np.arange(1970, 2016, 5) # 1970, 1975, 1980, ...\n",
    "b_five = b_pop.sort('time').where('time', are.contained_in(fives))\n",
    "b_five"
   ]
  },
  {
   "cell_type": "markdown",
   "metadata": {
    "deletable": false,
    "editable": false
   },
   "source": [
    "**Question 2.** Assign `b_1970_through_2010` to a table that has the same columns as `b_five` and has one row for every five years from 1970 through 2010 (but not 2015). Then, use that table to assign `initial` to an array that contains the population for every five year interval from 1970 to 2010. Finally, assign `changed` to an array that contains the population for every five year interval from 1975 to 2015.\n",
    "\n",
    "*Hint*: You may find the `exclude` method to be helpful ([Docs](http://data8.org/datascience/_autosummary/datascience.tables.Table.exclude.html))."
   ]
  },
  {
   "cell_type": "code",
   "execution_count": 11,
   "metadata": {
    "deletable": false
   },
   "outputs": [
    {
     "data": {
      "text/html": [
       "<table border=\"1\" class=\"dataframe\">\n",
       "    <thead>\n",
       "        <tr>\n",
       "            <th>time</th> <th>population_total</th>\n",
       "        </tr>\n",
       "    </thead>\n",
       "    <tbody>\n",
       "        <tr>\n",
       "            <td>1970</td> <td>65,048,701      </td>\n",
       "        </tr>\n",
       "        <tr>\n",
       "            <td>1975</td> <td>71,247,153      </td>\n",
       "        </tr>\n",
       "        <tr>\n",
       "            <td>1980</td> <td>81,364,176      </td>\n",
       "        </tr>\n",
       "        <tr>\n",
       "            <td>1985</td> <td>93,015,182      </td>\n",
       "        </tr>\n",
       "        <tr>\n",
       "            <td>1990</td> <td>105,983,136     </td>\n",
       "        </tr>\n",
       "        <tr>\n",
       "            <td>1995</td> <td>118,427,768     </td>\n",
       "        </tr>\n",
       "        <tr>\n",
       "            <td>2000</td> <td>131,280,739     </td>\n",
       "        </tr>\n",
       "        <tr>\n",
       "            <td>2005</td> <td>142,929,979     </td>\n",
       "        </tr>\n",
       "        <tr>\n",
       "            <td>2010</td> <td>151,616,777     </td>\n",
       "        </tr>\n",
       "    </tbody>\n",
       "</table>"
      ],
      "text/plain": [
       "<IPython.core.display.HTML object>"
      ]
     },
     "metadata": {},
     "output_type": "display_data"
    },
    {
     "name": "stdout",
     "output_type": "stream",
     "text": [
      "[ 65048701  71247153  81364176  93015182 105983136 118427768 131280739\n",
      " 142929979 151616777]\n",
      "[ 71247153  81364176  93015182 105983136 118427768 131280739 142929979\n",
      " 151616777 160995642]\n"
     ]
    }
   ],
   "source": [
    "b_1970_through_2010 = b_five.exclude(-1) # removes last row from b_five; 2015\n",
    "b_1970_through_2010.show()\n",
    "\n",
    "initial = b_1970_through_2010.column(1) # creates array of population w/ 5-year interval from 1970 and 2010\n",
    "print(initial)\n",
    "\n",
    "changed = b_five.exclude(0).column(1) # creates array of population w/ 5-year interval from 1975 to 2015 \n",
    "print(changed)"
   ]
  },
  {
   "cell_type": "markdown",
   "metadata": {
    "deletable": false,
    "editable": false
   },
   "source": [
    "We have provided the code below that uses `b_1970_through_2010`, `initial`, and `changed` in order to add a column to the table called `annual_growth`. Don't worry about the calculation of the growth rates; run the test below to test your solution.\n",
    "\n",
    "If you are interested in how we came up with the formula for growth rates, consult the [growth rates](https://www.inferentialthinking.com/chapters/03/2/1/growth) section of the textbook."
   ]
  },
  {
   "cell_type": "code",
   "execution_count": 12,
   "metadata": {
    "deletable": false,
    "editable": false
   },
   "outputs": [
    {
     "data": {
      "text/html": [
       "<table border=\"1\" class=\"dataframe\">\n",
       "    <thead>\n",
       "        <tr>\n",
       "            <th>time</th> <th>population_total</th> <th>annual_growth</th>\n",
       "        </tr>\n",
       "    </thead>\n",
       "    <tbody>\n",
       "        <tr>\n",
       "            <td>1970</td> <td>65,048,701      </td> <td>1.84%        </td>\n",
       "        </tr>\n",
       "        <tr>\n",
       "            <td>1975</td> <td>71,247,153      </td> <td>2.69%        </td>\n",
       "        </tr>\n",
       "        <tr>\n",
       "            <td>1980</td> <td>81,364,176      </td> <td>2.71%        </td>\n",
       "        </tr>\n",
       "        <tr>\n",
       "            <td>1985</td> <td>93,015,182      </td> <td>2.64%        </td>\n",
       "        </tr>\n",
       "        <tr>\n",
       "            <td>1990</td> <td>105,983,136     </td> <td>2.25%        </td>\n",
       "        </tr>\n",
       "        <tr>\n",
       "            <td>1995</td> <td>118,427,768     </td> <td>2.08%        </td>\n",
       "        </tr>\n",
       "        <tr>\n",
       "            <td>2000</td> <td>131,280,739     </td> <td>1.71%        </td>\n",
       "        </tr>\n",
       "        <tr>\n",
       "            <td>2005</td> <td>142,929,979     </td> <td>1.19%        </td>\n",
       "        </tr>\n",
       "        <tr>\n",
       "            <td>2010</td> <td>151,616,777     </td> <td>1.21%        </td>\n",
       "        </tr>\n",
       "    </tbody>\n",
       "</table>"
      ],
      "text/plain": [
       "time | population_total | annual_growth\n",
       "1970 | 65,048,701       | 1.84%\n",
       "1975 | 71,247,153       | 2.69%\n",
       "1980 | 81,364,176       | 2.71%\n",
       "1985 | 93,015,182       | 2.64%\n",
       "1990 | 105,983,136      | 2.25%\n",
       "1995 | 118,427,768      | 2.08%\n",
       "2000 | 131,280,739      | 1.71%\n",
       "2005 | 142,929,979      | 1.19%\n",
       "2010 | 151,616,777      | 1.21%"
      ]
     },
     "execution_count": 12,
     "metadata": {},
     "output_type": "execute_result"
    }
   ],
   "source": [
    "b_five_growth = b_1970_through_2010.with_column('annual_growth', (changed/initial)**0.2-1)\n",
    "b_five_growth.set_format('annual_growth', PercentFormatter)"
   ]
  },
  {
   "cell_type": "code",
   "execution_count": 13,
   "metadata": {
    "deletable": false,
    "editable": false
   },
   "outputs": [
    {
     "name": "stdout",
     "output_type": "stream",
     "text": [
      "~~~~~~~~~~~~~~~~~~~~~~~~~~~~~~~~~~~~~~~~~~~~~~~~~~~~~~~~~~~~~~~~~~~~~\n",
      "Running tests\n",
      "\n",
      "---------------------------------------------------------------------\n",
      "Test summary\n",
      "    Passed: 4\n",
      "    Failed: 0\n",
      "[ooooooooook] 100.0% passed\n",
      "\n"
     ]
    }
   ],
   "source": [
    "_ = ok.grade('q1_2')"
   ]
  },
  {
   "cell_type": "markdown",
   "metadata": {
    "deletable": false,
    "editable": false
   },
   "source": [
    "While the population has grown every five years since 1970, the annual growth rate decreased dramatically from 1985 to 2005. Let's look at some other information in order to develop a possible explanation. Run the next cell to load three additional tables of measurements about countries over time."
   ]
  },
  {
   "cell_type": "code",
   "execution_count": 14,
   "metadata": {
    "deletable": false,
    "editable": false
   },
   "outputs": [],
   "source": [
    "life_expectancy = Table.read_table('life_expectancy.csv')\n",
    "child_mortality = Table.read_table('child_mortality.csv').relabeled(2, 'child_mortality_under_5_per_1000_born')\n",
    "fertility = Table.read_table('fertility.csv')"
   ]
  },
  {
   "cell_type": "markdown",
   "metadata": {
    "deletable": false,
    "editable": false
   },
   "source": [
    "The `life_expectancy` table contains a statistic that is often used to measure how long people live, called *life expectancy at birth*. This number, for a country in a given year, [does not measure how long babies born in that year are expected to live](http://blogs.worldbank.org/opendata/what-does-life-expectancy-birth-really-mean). Instead, it measures how long someone would live, on average, if the *mortality conditions* in that year persisted throughout their lifetime. These \"mortality conditions\" describe what fraction of people at each age survived the year. So, it is a way of measuring the proportion of people that are staying alive, aggregated over different age groups in the population."
   ]
  },
  {
   "cell_type": "markdown",
   "metadata": {},
   "source": [
    "Run the following cells below to see `life_expectancy`, `child_mortality`, and `fertility`. Refer back to these tables as they will be helpful for answering further questions!"
   ]
  },
  {
   "cell_type": "code",
   "execution_count": 15,
   "metadata": {},
   "outputs": [
    {
     "data": {
      "text/html": [
       "<table border=\"1\" class=\"dataframe\">\n",
       "    <thead>\n",
       "        <tr>\n",
       "            <th>geo</th> <th>time</th> <th>life_expectancy_years</th>\n",
       "        </tr>\n",
       "    </thead>\n",
       "    <tbody>\n",
       "        <tr>\n",
       "            <td>afg </td> <td>1800</td> <td>28.21                </td>\n",
       "        </tr>\n",
       "        <tr>\n",
       "            <td>afg </td> <td>1801</td> <td>28.2                 </td>\n",
       "        </tr>\n",
       "        <tr>\n",
       "            <td>afg </td> <td>1802</td> <td>28.19                </td>\n",
       "        </tr>\n",
       "        <tr>\n",
       "            <td>afg </td> <td>1803</td> <td>28.18                </td>\n",
       "        </tr>\n",
       "        <tr>\n",
       "            <td>afg </td> <td>1804</td> <td>28.17                </td>\n",
       "        </tr>\n",
       "        <tr>\n",
       "            <td>afg </td> <td>1805</td> <td>28.16                </td>\n",
       "        </tr>\n",
       "        <tr>\n",
       "            <td>afg </td> <td>1806</td> <td>28.15                </td>\n",
       "        </tr>\n",
       "        <tr>\n",
       "            <td>afg </td> <td>1807</td> <td>28.14                </td>\n",
       "        </tr>\n",
       "        <tr>\n",
       "            <td>afg </td> <td>1808</td> <td>28.13                </td>\n",
       "        </tr>\n",
       "        <tr>\n",
       "            <td>afg </td> <td>1809</td> <td>28.12                </td>\n",
       "        </tr>\n",
       "    </tbody>\n",
       "</table>\n",
       "<p>... (43847 rows omitted)</p>"
      ],
      "text/plain": [
       "geo  | time | life_expectancy_years\n",
       "afg  | 1800 | 28.21\n",
       "afg  | 1801 | 28.2\n",
       "afg  | 1802 | 28.19\n",
       "afg  | 1803 | 28.18\n",
       "afg  | 1804 | 28.17\n",
       "afg  | 1805 | 28.16\n",
       "afg  | 1806 | 28.15\n",
       "afg  | 1807 | 28.14\n",
       "afg  | 1808 | 28.13\n",
       "afg  | 1809 | 28.12\n",
       "... (43847 rows omitted)"
      ]
     },
     "execution_count": 15,
     "metadata": {},
     "output_type": "execute_result"
    }
   ],
   "source": [
    "life_expectancy"
   ]
  },
  {
   "cell_type": "code",
   "execution_count": 16,
   "metadata": {},
   "outputs": [
    {
     "data": {
      "text/html": [
       "<table border=\"1\" class=\"dataframe\">\n",
       "    <thead>\n",
       "        <tr>\n",
       "            <th>geo</th> <th>time</th> <th>child_mortality_under_5_per_1000_born</th>\n",
       "        </tr>\n",
       "    </thead>\n",
       "    <tbody>\n",
       "        <tr>\n",
       "            <td>afg </td> <td>1800</td> <td>468.6                                </td>\n",
       "        </tr>\n",
       "        <tr>\n",
       "            <td>afg </td> <td>1801</td> <td>468.6                                </td>\n",
       "        </tr>\n",
       "        <tr>\n",
       "            <td>afg </td> <td>1802</td> <td>468.6                                </td>\n",
       "        </tr>\n",
       "        <tr>\n",
       "            <td>afg </td> <td>1803</td> <td>468.6                                </td>\n",
       "        </tr>\n",
       "        <tr>\n",
       "            <td>afg </td> <td>1804</td> <td>468.6                                </td>\n",
       "        </tr>\n",
       "        <tr>\n",
       "            <td>afg </td> <td>1805</td> <td>468.6                                </td>\n",
       "        </tr>\n",
       "        <tr>\n",
       "            <td>afg </td> <td>1806</td> <td>470                                  </td>\n",
       "        </tr>\n",
       "        <tr>\n",
       "            <td>afg </td> <td>1807</td> <td>470                                  </td>\n",
       "        </tr>\n",
       "        <tr>\n",
       "            <td>afg </td> <td>1808</td> <td>470                                  </td>\n",
       "        </tr>\n",
       "        <tr>\n",
       "            <td>afg </td> <td>1809</td> <td>470                                  </td>\n",
       "        </tr>\n",
       "    </tbody>\n",
       "</table>\n",
       "<p>... (40746 rows omitted)</p>"
      ],
      "text/plain": [
       "geo  | time | child_mortality_under_5_per_1000_born\n",
       "afg  | 1800 | 468.6\n",
       "afg  | 1801 | 468.6\n",
       "afg  | 1802 | 468.6\n",
       "afg  | 1803 | 468.6\n",
       "afg  | 1804 | 468.6\n",
       "afg  | 1805 | 468.6\n",
       "afg  | 1806 | 470\n",
       "afg  | 1807 | 470\n",
       "afg  | 1808 | 470\n",
       "afg  | 1809 | 470\n",
       "... (40746 rows omitted)"
      ]
     },
     "execution_count": 16,
     "metadata": {},
     "output_type": "execute_result"
    }
   ],
   "source": [
    "child_mortality"
   ]
  },
  {
   "cell_type": "code",
   "execution_count": 17,
   "metadata": {},
   "outputs": [
    {
     "data": {
      "text/html": [
       "<table border=\"1\" class=\"dataframe\">\n",
       "    <thead>\n",
       "        <tr>\n",
       "            <th>geo</th> <th>time</th> <th>children_per_woman_total_fertility</th>\n",
       "        </tr>\n",
       "    </thead>\n",
       "    <tbody>\n",
       "        <tr>\n",
       "            <td>afg </td> <td>1800</td> <td>7                                 </td>\n",
       "        </tr>\n",
       "        <tr>\n",
       "            <td>afg </td> <td>1801</td> <td>7                                 </td>\n",
       "        </tr>\n",
       "        <tr>\n",
       "            <td>afg </td> <td>1802</td> <td>7                                 </td>\n",
       "        </tr>\n",
       "        <tr>\n",
       "            <td>afg </td> <td>1803</td> <td>7                                 </td>\n",
       "        </tr>\n",
       "        <tr>\n",
       "            <td>afg </td> <td>1804</td> <td>7                                 </td>\n",
       "        </tr>\n",
       "        <tr>\n",
       "            <td>afg </td> <td>1805</td> <td>7                                 </td>\n",
       "        </tr>\n",
       "        <tr>\n",
       "            <td>afg </td> <td>1806</td> <td>7                                 </td>\n",
       "        </tr>\n",
       "        <tr>\n",
       "            <td>afg </td> <td>1807</td> <td>7                                 </td>\n",
       "        </tr>\n",
       "        <tr>\n",
       "            <td>afg </td> <td>1808</td> <td>7                                 </td>\n",
       "        </tr>\n",
       "        <tr>\n",
       "            <td>afg </td> <td>1809</td> <td>7                                 </td>\n",
       "        </tr>\n",
       "    </tbody>\n",
       "</table>\n",
       "<p>... (43402 rows omitted)</p>"
      ],
      "text/plain": [
       "geo  | time | children_per_woman_total_fertility\n",
       "afg  | 1800 | 7\n",
       "afg  | 1801 | 7\n",
       "afg  | 1802 | 7\n",
       "afg  | 1803 | 7\n",
       "afg  | 1804 | 7\n",
       "afg  | 1805 | 7\n",
       "afg  | 1806 | 7\n",
       "afg  | 1807 | 7\n",
       "afg  | 1808 | 7\n",
       "afg  | 1809 | 7\n",
       "... (43402 rows omitted)"
      ]
     },
     "execution_count": 17,
     "metadata": {},
     "output_type": "execute_result"
    }
   ],
   "source": [
    "fertility"
   ]
  },
  {
   "cell_type": "markdown",
   "metadata": {
    "deletable": false,
    "editable": false
   },
   "source": [
    "**Question 3.** Perhaps population is growing more slowly because people aren't living as long. Use the `life_expectancy` table to draw a line graph with the years 1970 and later on the horizontal axis that shows how the *life expectancy at birth* has changed in Bangladesh."
   ]
  },
  {
   "cell_type": "code",
   "execution_count": 18,
   "metadata": {
    "deletable": false,
    "manual_grade": true,
    "manual_problem_id": "global_pop_3"
   },
   "outputs": [
    {
     "data": {
      "text/html": [
       "<table border=\"1\" class=\"dataframe\">\n",
       "    <thead>\n",
       "        <tr>\n",
       "            <th>Years</th> <th>Life Expectancy at Birth</th>\n",
       "        </tr>\n",
       "    </thead>\n",
       "    <tbody>\n",
       "        <tr>\n",
       "            <td>1970 </td> <td>46.31                   </td>\n",
       "        </tr>\n",
       "        <tr>\n",
       "            <td>1971 </td> <td>45.74                   </td>\n",
       "        </tr>\n",
       "        <tr>\n",
       "            <td>1972 </td> <td>45.52                   </td>\n",
       "        </tr>\n",
       "        <tr>\n",
       "            <td>1973 </td> <td>45.77                   </td>\n",
       "        </tr>\n",
       "        <tr>\n",
       "            <td>1974 </td> <td>46.49                   </td>\n",
       "        </tr>\n",
       "        <tr>\n",
       "            <td>1975 </td> <td>47.58                   </td>\n",
       "        </tr>\n",
       "        <tr>\n",
       "            <td>1976 </td> <td>48.92                   </td>\n",
       "        </tr>\n",
       "        <tr>\n",
       "            <td>1977 </td> <td>50.27                   </td>\n",
       "        </tr>\n",
       "        <tr>\n",
       "            <td>1978 </td> <td>51.47                   </td>\n",
       "        </tr>\n",
       "        <tr>\n",
       "            <td>1979 </td> <td>52.44                   </td>\n",
       "        </tr>\n",
       "    </tbody>\n",
       "</table>\n",
       "<p>... (37 rows omitted)</p>"
      ],
      "text/plain": [
       "<IPython.core.display.HTML object>"
      ]
     },
     "metadata": {},
     "output_type": "display_data"
    },
    {
     "data": {
      "image/png": "[encoded data removed]",
      "text/plain": [
       "<Figure size 432x288 with 1 Axes>"
      ]
     },
     "metadata": {},
     "output_type": "display_data"
    }
   ],
   "source": [
    "\n",
    "new_life_expectancy = life_expectancy.where(\"geo\", \"bgd\").where(\"time\", are.above_or_equal_to(1970)).drop(\"geo\")\n",
    "new_life_expectancy = new_life_expectancy.relabeled(\"time\", \"Years\")\n",
    "new_life_expectancy = new_life_expectancy.relabeled(\"life_expectancy_years\", \"Life Expectancy at Birth\")\n",
    "new_life_expectancy.show(10)\n",
    "\n",
    "new_life_expectancy.plot(0,1)"
   ]
  },
  {
   "cell_type": "markdown",
   "metadata": {
    "deletable": false,
    "editable": false
   },
   "source": [
    "**Question 4.** Assuming everything else stays the same, does the graph above help directly explain why the population growth rate decreased from 1985 to 2010 in Bangladesh? Why or why not? What happened in Bangladesh in 1991, and does that event explain the change in population growth rate?"
   ]
  },
  {
   "cell_type": "markdown",
   "metadata": {
    "collapsed": true,
    "deletable": false,
    "manual_grade": true,
    "manual_problem_id": "global_pop_4"
   },
   "source": [
    "\n",
    "\n",
    "Life expectancy at birth, as stated previously, \"measures how long someone would live, on average, if the mortality conditions in that year persisted through their lifetime;\" it can be calculated by dividing the total person-years lived beyond birth by the number of newborns that year. In 1991, the life expectancy at birth in Bangladesh dropped from 57.9 in 1990 to 56.4, a decrease of roughly 2.6%. According to some internet research, a tropical cyclone hit Bangladesh in 1991; it was one of the deadliest cyclones or record. Even without researching what happened, you could conclude from the data that many people died due to some event(s). In order for life expectancy to drop, there must be a rise in mortality conditions.\n",
    "\n",
    "The brief drop in life expectancy at birth does NOT directly explain the decrease in population growth rate from 1985 to 2010. Life expectancy at birth in general is NOT directly associated with population growth. Population growth rate is related to fertility rate; more people being born means a higher growth rate and visa versa. Basically, more people dying (higher mortality conditions) means life expectancy at birth decreases, but more people dying, perhaps at the age when they would be having children, can lower fertility rate, which can lower population growth rate.\n",
    "\n",
    "However, if the life expectancy at birth for a country is increasing, then this usually means people are living longer. If people live longer, they wait longer to have children, which slows population growth. Therefore, an increasing life expectancy at birth may be indirectly related to a decreasing population growth rate. If people are living longer, they are not having children at the age when they might have been having children in previous years, so growth slows. But population growth is also influneced by emigration, immigration, age structure, etc., so you cannot make the claim that life expectancy at birth is directly related to population growth, but possibly indirectly.\n",
    "\n",
    "\n"
   ]
  },
  {
   "cell_type": "markdown",
   "metadata": {
    "deletable": false,
    "editable": false
   },
   "source": [
    "The `fertility` table contains a statistic that is often used to measure how many babies are being born, the *total fertility rate*. This number describes the [number of children a woman would have in her lifetime](https://www.measureevaluation.org/prh/rh_indicators/specific/fertility/total-fertility-rate), on average, if the current rates of birth by age of the mother persisted throughout her child bearing years, assuming she survived through age 49. "
   ]
  },
  {
   "cell_type": "markdown",
   "metadata": {
    "deletable": false,
    "editable": false
   },
   "source": [
    "**Question 5.** Write a function `fertility_over_time` that takes the Alpha-3 code of a `country` and a `start` year. It returns a two-column table with labels \"`Year`\" and \"`Children per woman`\" that can be used to generate a line chart of the country's fertility rate each year, starting at the `start` year. The plot should include the `start` year and all later years that appear in the `fertility` table. \n",
    "\n",
    "Then, in the next cell, call your `fertility_over_time` function on the Alpha-3 code for Bangladesh and the year 1970 in order to plot how Bangladesh's fertility rate has changed since 1970. Note that the function `fertility_over_time` should not return the plot itself **The expression that draws the line plot is provided for you; please don't change it.**"
   ]
  },
  {
   "cell_type": "code",
   "execution_count": 19,
   "metadata": {
    "deletable": false
   },
   "outputs": [],
   "source": [
    "def fertility_over_time(country, start):\n",
    "    # Create a two-column table that describes a country's total fertility rate each year\n",
    "    country_fertility = Table().with_columns(\"Year\", fertility.where(\"geo\", country).column(\"time\"), \n",
    "                                          \"Children per woman\", fertility.where(\"geo\", country).column(\"children_per_woman_total_fertility\"))\n",
    "    \n",
    "    # Create new table with just rows after the start year\n",
    "    country_fertility_after_start = country_fertility.where(\"Year\", are.above_or_equal_to(start))\n",
    "    \n",
    "    return country_fertility_after_start\n"
   ]
  },
  {
   "cell_type": "code",
   "execution_count": 20,
   "metadata": {
    "deletable": false
   },
   "outputs": [
    {
     "data": {
      "image/png": "[encoded data removed]",
      "text/plain": [
       "<Figure size 432x288 with 1 Axes>"
      ]
     },
     "metadata": {},
     "output_type": "display_data"
    }
   ],
   "source": [
    "bangladesh_code = \"bgd\"\n",
    "fertility_over_time(bangladesh_code, 1970).plot(0, 1) # You should *not* change this line."
   ]
  },
  {
   "cell_type": "code",
   "execution_count": 21,
   "metadata": {
    "deletable": false,
    "editable": false
   },
   "outputs": [
    {
     "name": "stdout",
     "output_type": "stream",
     "text": [
      "~~~~~~~~~~~~~~~~~~~~~~~~~~~~~~~~~~~~~~~~~~~~~~~~~~~~~~~~~~~~~~~~~~~~~\n",
      "Running tests\n",
      "\n",
      "---------------------------------------------------------------------\n",
      "Test summary\n",
      "    Passed: 2\n",
      "    Failed: 0\n",
      "[ooooooooook] 100.0% passed\n",
      "\n"
     ]
    }
   ],
   "source": [
    "_ = ok.grade('q1_5')"
   ]
  },
  {
   "cell_type": "markdown",
   "metadata": {
    "deletable": false,
    "editable": false
   },
   "source": [
    "**Question 6.** Assuming everything else stays the same, does the graph above help directly explain why the population growth rate decreased from 1985 to 2010 in Bangladesh? Why or why not?"
   ]
  },
  {
   "cell_type": "markdown",
   "metadata": {
    "deletable": false,
    "manual_grade": true,
    "manual_problem_id": "global_pop_6"
   },
   "source": [
    "Yes, the graph of fertility rate in Bangladesh over time can help explain the decrease in population growth rate. The single most important factor in population growth is fertility rate. Fertility rate is the average number of live births per woman during their reproductive years. Factors such as age structure, emigration, immigration, etc. must also be considered when tracking population growth, but generally speaking, if women are having fewer and fewer children as time progresses, then the population growth rate will slow. In this case, if we can assume that all other factors stay the same, then the decline in fertility rate can help explain slowing population growth rates.   "
   ]
  },
  {
   "cell_type": "markdown",
   "metadata": {
    "deletable": false,
    "editable": false
   },
   "source": [
    "It has been observed that lower fertility rates are often associated with lower child mortality rates. The link has been attributed to family planning: if parents can expect that their children will all survive into adulthood, then they will choose to have fewer children. We can see if this association is evident in Bangladesh by plotting the relationship between total fertility rate and [child mortality rate per 1000 children](https://en.wikipedia.org/wiki/Child_mortality)."
   ]
  },
  {
   "cell_type": "markdown",
   "metadata": {
    "deletable": false,
    "editable": false
   },
   "source": [
    "**Question 7.** Using both the `fertility` and `child_mortality` tables, draw a scatter diagram with one point for each year, starting with 1970, that has Bangladesh's total fertility on the horizontal axis and its child mortality on the vertical axis. \n",
    "\n",
    "**The expression that draws the scatter diagram is provided for you; please don't change it.** Instead, create a table called `post_1969_fertility_and_child_mortality` with the appropriate column labels and data in order to generate the chart correctly. Use the label \"`Children per woman`\" to describe total fertility and the label \"`Child deaths per 1000 born`\" to describe child mortality."
   ]
  },
  {
   "cell_type": "code",
   "execution_count": 22,
   "metadata": {
    "deletable": false
   },
   "outputs": [
    {
     "data": {
      "image/png": "[encoded data removed]",
      "text/plain": [
       "<Figure size 360x360 with 1 Axes>"
      ]
     },
     "metadata": {},
     "output_type": "display_data"
    }
   ],
   "source": [
    "# array of fertility in Bangladesh for each year after 1970\n",
    "bgd_fertility = fertility.where(\"geo\", \"bgd\").where(\"time\", are.above_or_equal_to(1970)).column(\"children_per_woman_total_fertility\")\n",
    "\n",
    "# array of child mortality in Bangladesh for each year after 1970\n",
    "bgd_child_mortality = child_mortality.where(\"geo\", \"bgd\").where(\"time\", are.above_or_equal_to(1970)).column(\"child_mortality_under_5_per_1000_born\")\n",
    "\n",
    "# creates a new 2-column table with Children per woman and Child deaths per 1000 born; corresponding arrays above\n",
    "post_1969_fertility_and_child_mortality = Table().with_columns(\"Children per woman\", bgd_fertility,\n",
    "                                                    \"Child deaths per 1000 born\", bgd_child_mortality)\n",
    "\n",
    "\n",
    "post_1969_fertility_and_child_mortality.scatter('Children per woman', 'Child deaths per 1000 born') # You should *not* change this line."
   ]
  },
  {
   "cell_type": "code",
   "execution_count": 23,
   "metadata": {
    "deletable": false,
    "editable": false
   },
   "outputs": [
    {
     "name": "stdout",
     "output_type": "stream",
     "text": [
      "~~~~~~~~~~~~~~~~~~~~~~~~~~~~~~~~~~~~~~~~~~~~~~~~~~~~~~~~~~~~~~~~~~~~~\n",
      "Running tests\n",
      "\n",
      "---------------------------------------------------------------------\n",
      "Test summary\n",
      "    Passed: 2\n",
      "    Failed: 0\n",
      "[ooooooooook] 100.0% passed\n",
      "\n"
     ]
    }
   ],
   "source": [
    "_ = ok.grade('q1_7')"
   ]
  },
  {
   "cell_type": "markdown",
   "metadata": {
    "deletable": false,
    "editable": false
   },
   "source": [
    "**Question 8.** In one or two sentences, describe the association (if any) that is illustrated by this scatter diagram. Does the diagram show that reduced child mortality causes parents to choose to have fewer children?"
   ]
  },
  {
   "cell_type": "markdown",
   "metadata": {
    "deletable": false,
    "manual_grade": true,
    "manual_problem_id": "global_pop_8"
   },
   "source": [
    "The scatter plot illustrates a positive association between children per woman (total fertility) and child deaths per 1000 born (child mortaility). As the number of children per woman increaases, the child deaths per 1000 born increases, or visa versa. This helps gives evidence to the claim stated above; if more children are expected to live into adulthood due to reduced child mortality, then parents are likely choosing to have fewer children. However, causation is not the same as correlation, and you cannot definitely state that reduced child mortality causes reduced fertility."
   ]
  },
  {
   "cell_type": "markdown",
   "metadata": {
    "deletable": false,
    "editable": false
   },
   "source": [
    "### The World\n",
    "\n",
    "The change observed in Bangladesh since 1970 can also be observed in many other developing countries: health services improve, life expectancy increases, and child mortality decreases. At the same time, the fertility rate often plummets, and so the population growth rate decreases despite increasing longevity."
   ]
  },
  {
   "cell_type": "markdown",
   "metadata": {
    "deletable": false,
    "editable": false
   },
   "source": [
    "Run the cell below to generate two overlaid histograms, one for 1960 and one for 2010, that show the distributions of total fertility rates for these two years among all 201 countries in the `fertility` table."
   ]
  },
  {
   "cell_type": "code",
   "execution_count": 24,
   "metadata": {
    "deletable": false,
    "editable": false
   },
   "outputs": [
    {
     "data": {
      "image/png": "[encoded data removed]",
      "text/plain": [
       "<Figure size 432x288 with 1 Axes>"
      ]
     },
     "metadata": {},
     "output_type": "display_data"
    }
   ],
   "source": [
    "Table().with_columns(\n",
    "    '1960', fertility.where('time', 1960).column(2),\n",
    "    '2010', fertility.where('time', 2010).column(2)\n",
    ").hist(bins=np.arange(0, 10, 0.5), unit='child')\n",
    "_ = plots.xlabel('Children per woman')\n",
    "_ = plots.xticks(np.arange(10))"
   ]
  },
  {
   "cell_type": "markdown",
   "metadata": {
    "deletable": false,
    "editable": false
   },
   "source": [
    "**Question 9.** Assign `fertility_statements` to a list of the numbers of each statement below that can be correctly inferred from these histograms.\n",
    "1. About the same number of countries had a fertility rate between 3.5 and 4.5 in both 1960 and 2010.\n",
    "1. In 2010, about 40% of countries had a fertility rate between 1.5 and 2 (inclusive).\n",
    "1. In 1960, less than 20% of countries had a fertility rate below 3.\n",
    "1. More countries had a fertility rate above 3 in 1960 than in 2010.\n",
    "1. At least half of countries had a fertility rate between 5 and 8 (inclusive) in 1960.\n",
    "1. At least half of countries had a fertility rate below 3 in 2010."
   ]
  },
  {
   "cell_type": "code",
   "execution_count": 25,
   "metadata": {
    "deletable": false
   },
   "outputs": [],
   "source": [
    "fertility_statements = (1,3,4,5,6 )"
   ]
  },
  {
   "cell_type": "code",
   "execution_count": 26,
   "metadata": {
    "deletable": false,
    "editable": false
   },
   "outputs": [
    {
     "name": "stdout",
     "output_type": "stream",
     "text": [
      "~~~~~~~~~~~~~~~~~~~~~~~~~~~~~~~~~~~~~~~~~~~~~~~~~~~~~~~~~~~~~~~~~~~~~\n",
      "Running tests\n",
      "\n",
      "---------------------------------------------------------------------\n",
      "Test summary\n",
      "    Passed: 1\n",
      "    Failed: 0\n",
      "[ooooooooook] 100.0% passed\n",
      "\n"
     ]
    }
   ],
   "source": [
    "_ = ok.grade('q1_9')"
   ]
  },
  {
   "cell_type": "markdown",
   "metadata": {
    "deletable": false,
    "editable": false
   },
   "source": [
    "**Question 10.** Draw a line plot of the world population from 1800 through 2005. The world population is the sum of all the country's populations. "
   ]
  },
  {
   "cell_type": "code",
   "execution_count": 27,
   "metadata": {
    "deletable": false,
    "manual_grade": true,
    "manual_problem_id": "global_pop_10"
   },
   "outputs": [
    {
     "data": {
      "image/png": "[encoded data removed]",
      "text/plain": [
       "<Figure size 432x288 with 1 Axes>"
      ]
     },
     "metadata": {},
     "output_type": "display_data"
    }
   ],
   "source": [
    "#creates a new table with the total world population for each year from 1800 through 2005\n",
    "#grouping by time creates an array of each country's pop. for the corresponding year, then sum the array to get total\n",
    "new_pop_table = population.select(\"time\", \"population_total\").where(\"time\", are.between(1800,2006)).group(\"time\", sum)\n",
    "\n",
    "#relabel column titles for better readbility\n",
    "new_pop_table = new_pop_table.relabeled(0, \"Year\").relabeled(1, \"Total World Population\")\n",
    "new_pop_table.plot(0,1)"
   ]
  },
  {
   "cell_type": "markdown",
   "metadata": {
    "deletable": false,
    "editable": false
   },
   "source": [
    "**Question 11.** Create a function `stats_for_year` that takes a `year` and returns a table of statistics. The table it returns should have four columns: `geo`, `population_total`, `children_per_woman_total_fertility`, and `child_mortality_under_5_per_1000_born`. Each row should contain one Alpha-3 country code and three statistics: population, fertility rate, and child mortality for that `year` from the `population`, `fertility` and `child_mortality` tables. Only include rows for which all three statistics are available for the country and year.\n",
    "\n",
    "In addition, restrict the result to country codes that appears in `big_50`, an array of the 50 most populous countries in 2010. This restriction will speed up computations later in the project.\n",
    "\n",
    "*Hint*: The tests for this question are quite comprehensive, so if you pass the tests, your function is probably correct. However, without calling your function yourself and looking at the output, it will be very difficult to understand any problems you have, so try your best to write the function correctly and check that it works before you rely on the `ok` tests to confirm your work."
   ]
  },
  {
   "cell_type": "code",
   "execution_count": 28,
   "metadata": {
    "deletable": false
   },
   "outputs": [
    {
     "name": "stdout",
     "output_type": "stream",
     "text": [
      "geo  | time | population_total\n",
      "jpn  | 1960 | 92500754\n",
      "jpn  | 1961 | 93357259\n",
      "jpn  | 1962 | 94263646\n",
      "jpn  | 1963 | 95227653\n",
      "jpn  | 1964 | 96253064\n",
      "jpn  | 1965 | 97341852\n",
      "jpn  | 1966 | 98494630\n",
      "jpn  | 1967 | 99711082\n",
      "jpn  | 1968 | 100988866\n",
      "jpn  | 1969 | 102323674\n",
      "... (131 rows omitted)\n",
      "geo  | time | children_per_woman_total_fertility\n",
      "jpn  | 1960 | 2\n"
     ]
    },
    {
     "data": {
      "text/html": [
       "<table border=\"1\" class=\"dataframe\">\n",
       "    <thead>\n",
       "        <tr>\n",
       "            <th>geo</th> <th>time</th> <th>child_mortality_under_5_per_1000_born</th>\n",
       "        </tr>\n",
       "    </thead>\n",
       "    <tbody>\n",
       "        <tr>\n",
       "            <td>jpn </td> <td>1960</td> <td>39.7                                 </td>\n",
       "        </tr>\n",
       "    </tbody>\n",
       "</table>"
      ],
      "text/plain": [
       "geo  | time | child_mortality_under_5_per_1000_born\n",
       "jpn  | 1960 | 39.7"
      ]
     },
     "execution_count": 28,
     "metadata": {},
     "output_type": "execute_result"
    }
   ],
   "source": [
    "# We first create a population table that only includes the \n",
    "# 50 countries with the largest 2010 populations. We focus on \n",
    "# these 50 countries only so that plotting later will run faster.\n",
    "big_50 = population.where('time', 2010).sort(2, descending=True).take(np.arange(50)).column('geo')\n",
    "population_of_big_50 = population.where('time', are.above(1959)).where('geo', are.contained_in(big_50))\n",
    "\n",
    "\n",
    "def stats_for_year(year):\n",
    "    \"\"\"Return a table of the stats for each country that year.\"\"\"\n",
    "    p = population_of_big_50.where('time', year).drop('time')\n",
    "    f = fertility.where('time', year).drop('time')\n",
    "    c = child_mortality.where('time', year).drop('time')\n",
    "    #joins the three columns above for only countries with all data available\n",
    "    stat_table = p.join(\"geo\", f, \"geo\").join(\"geo\", c, \"geo\")\n",
    "    return stat_table\n",
    "\n",
    "print(population_of_big_50.where(\"geo\", \"jpn\"))\n",
    "print(fertility.where(\"geo\", \"jpn\").where(\"time\", 1960))\n",
    "child_mortality.where(\"geo\", \"jpn\").where(\"time\", 1960)\n"
   ]
  },
  {
   "cell_type": "markdown",
   "metadata": {
    "deletable": false,
    "editable": false
   },
   "source": [
    "Try calling your function `stats_for_year` on any year between 1960 and 2010 in the cell below.  Try to understand the output of `stats_for_year`."
   ]
  },
  {
   "cell_type": "code",
   "execution_count": 29,
   "metadata": {},
   "outputs": [
    {
     "data": {
      "text/html": [
       "<table border=\"1\" class=\"dataframe\">\n",
       "    <thead>\n",
       "        <tr>\n",
       "            <th>geo</th> <th>population_total</th> <th>children_per_woman_total_fertility</th> <th>child_mortality_under_5_per_1000_born</th>\n",
       "        </tr>\n",
       "    </thead>\n",
       "    <tbody>\n",
       "        <tr>\n",
       "            <td>afg </td> <td>8994793         </td> <td>7.67                              </td> <td>362.4                                </td>\n",
       "        </tr>\n",
       "        <tr>\n",
       "            <td>arg </td> <td>20619075        </td> <td>3.11                              </td> <td>73.2                                 </td>\n",
       "        </tr>\n",
       "        <tr>\n",
       "            <td>bgd </td> <td>48200702        </td> <td>6.73                              </td> <td>264.3                                </td>\n",
       "        </tr>\n",
       "        <tr>\n",
       "            <td>bra </td> <td>72493585        </td> <td>6.21                              </td> <td>171.8                                </td>\n",
       "        </tr>\n",
       "        <tr>\n",
       "            <td>can </td> <td>17909232        </td> <td>3.91                              </td> <td>32.6                                 </td>\n",
       "        </tr>\n",
       "        <tr>\n",
       "            <td>chn </td> <td>644450173       </td> <td>3.99                              </td> <td>309                                  </td>\n",
       "        </tr>\n",
       "        <tr>\n",
       "            <td>cod </td> <td>15248246        </td> <td>6                                 </td> <td>266                                  </td>\n",
       "        </tr>\n",
       "        <tr>\n",
       "            <td>col </td> <td>16480384        </td> <td>6.81                              </td> <td>127.3                                </td>\n",
       "        </tr>\n",
       "        <tr>\n",
       "            <td>deu </td> <td>73179665        </td> <td>2.41                              </td> <td>42.87                                </td>\n",
       "        </tr>\n",
       "        <tr>\n",
       "            <td>dza </td> <td>11124892        </td> <td>7.65                              </td> <td>245.7                                </td>\n",
       "        </tr>\n",
       "        <tr>\n",
       "            <td>egy </td> <td>27072397        </td> <td>6.63                              </td> <td>312.8                                </td>\n",
       "        </tr>\n",
       "        <tr>\n",
       "            <td>esp </td> <td>30450994        </td> <td>2.77                              </td> <td>55.6                                 </td>\n",
       "        </tr>\n",
       "        <tr>\n",
       "            <td>eth </td> <td>22151218        </td> <td>6.88                              </td> <td>286.4                                </td>\n",
       "        </tr>\n",
       "        <tr>\n",
       "            <td>fra </td> <td>45865699        </td> <td>2.77                              </td> <td>28.5                                 </td>\n",
       "        </tr>\n",
       "        <tr>\n",
       "            <td>gbr </td> <td>52410496        </td> <td>2.69                              </td> <td>26.6                                 </td>\n",
       "        </tr>\n",
       "        <tr>\n",
       "            <td>gha </td> <td>6652285         </td> <td>6.75                              </td> <td>210.9                                </td>\n",
       "        </tr>\n",
       "        <tr>\n",
       "            <td>idn </td> <td>87792512        </td> <td>5.67                              </td> <td>222.4                                </td>\n",
       "        </tr>\n",
       "        <tr>\n",
       "            <td>ind </td> <td>449661874       </td> <td>5.87                              </td> <td>247.7                                </td>\n",
       "        </tr>\n",
       "        <tr>\n",
       "            <td>irn </td> <td>21906905        </td> <td>6.93                              </td> <td>300.1                                </td>\n",
       "        </tr>\n",
       "        <tr>\n",
       "            <td>irq </td> <td>7289759         </td> <td>6.25                              </td> <td>195.7                                </td>\n",
       "        </tr>\n",
       "        <tr>\n",
       "            <td>ita </td> <td>49714962        </td> <td>2.37                              </td> <td>52                                   </td>\n",
       "        </tr>\n",
       "        <tr>\n",
       "            <td>jpn </td> <td>92500754        </td> <td>2                                 </td> <td>39.7                                 </td>\n",
       "        </tr>\n",
       "        <tr>\n",
       "            <td>ken </td> <td>8105440         </td> <td>7.95                              </td> <td>198.6                                </td>\n",
       "        </tr>\n",
       "        <tr>\n",
       "            <td>kor </td> <td>25074028        </td> <td>6.16                              </td> <td>113                                  </td>\n",
       "        </tr>\n",
       "        <tr>\n",
       "            <td>mar </td> <td>12328534        </td> <td>7.07                              </td> <td>239.4                                </td>\n",
       "        </tr>\n",
       "        <tr>\n",
       "            <td>mex </td> <td>38174114        </td> <td>6.78                              </td> <td>142.9                                </td>\n",
       "        </tr>\n",
       "        <tr>\n",
       "            <td>mmr </td> <td>21486424        </td> <td>6.05                              </td> <td>276.7                                </td>\n",
       "        </tr>\n",
       "        <tr>\n",
       "            <td>moz </td> <td>7493278         </td> <td>6.6                               </td> <td>300.8                                </td>\n",
       "        </tr>\n",
       "        <tr>\n",
       "            <td>mys </td> <td>8160975         </td> <td>6.19                              </td> <td>92.8                                 </td>\n",
       "        </tr>\n",
       "        <tr>\n",
       "            <td>nga </td> <td>45211614        </td> <td>6.35                              </td> <td>337.3                                </td>\n",
       "        </tr>\n",
       "        <tr>\n",
       "            <td>npl </td> <td>10056945        </td> <td>5.99                              </td> <td>327.1                                </td>\n",
       "        </tr>\n",
       "        <tr>\n",
       "            <td>pak </td> <td>44911810        </td> <td>6.6                               </td> <td>261.9                                </td>\n",
       "        </tr>\n",
       "        <tr>\n",
       "            <td>per </td> <td>10061519        </td> <td>6.88                              </td> <td>227.4                                </td>\n",
       "        </tr>\n",
       "        <tr>\n",
       "            <td>phl </td> <td>26273023        </td> <td>7.15                              </td> <td>106                                  </td>\n",
       "        </tr>\n",
       "        <tr>\n",
       "            <td>pol </td> <td>29716363        </td> <td>2.97                              </td> <td>64.7                                 </td>\n",
       "        </tr>\n",
       "        <tr>\n",
       "            <td>prk </td> <td>11424179        </td> <td>4.58                              </td> <td>127.3                                </td>\n",
       "        </tr>\n",
       "        <tr>\n",
       "            <td>rus </td> <td>119860289       </td> <td>2.56                              </td> <td>55.81                                </td>\n",
       "        </tr>\n",
       "        <tr>\n",
       "            <td>sau </td> <td>4086539         </td> <td>7.22                              </td> <td>241.9                                </td>\n",
       "        </tr>\n",
       "        <tr>\n",
       "            <td>sdn </td> <td>7527450         </td> <td>6.69                              </td> <td>178.4                                </td>\n",
       "        </tr>\n",
       "        <tr>\n",
       "            <td>tha </td> <td>27397178        </td> <td>6.15                              </td> <td>147.9                                </td>\n",
       "        </tr>\n",
       "        <tr>\n",
       "            <td>tur </td> <td>27553280        </td> <td>6.3                               </td> <td>249                                  </td>\n",
       "        </tr>\n",
       "        <tr>\n",
       "            <td>tza </td> <td>10074490        </td> <td>6.81                              </td> <td>243.4                                </td>\n",
       "        </tr>\n",
       "        <tr>\n",
       "            <td>uga </td> <td>6788211         </td> <td>7                                 </td> <td>223.4                                </td>\n",
       "        </tr>\n",
       "        <tr>\n",
       "            <td>ukr </td> <td>42662150        </td> <td>2.42                              </td> <td>52.66                                </td>\n",
       "        </tr>\n",
       "        <tr>\n",
       "            <td>usa </td> <td>186176524       </td> <td>3.67                              </td> <td>30.1                                 </td>\n",
       "        </tr>\n",
       "        <tr>\n",
       "            <td>uzb </td> <td>8789492         </td> <td>6.71                              </td> <td>175.7                                </td>\n",
       "        </tr>\n",
       "        <tr>\n",
       "            <td>ven </td> <td>8146845         </td> <td>6.62                              </td> <td>81.1                                 </td>\n",
       "        </tr>\n",
       "        <tr>\n",
       "            <td>vnm </td> <td>32670623        </td> <td>6.35                              </td> <td>110.1                                </td>\n",
       "        </tr>\n",
       "        <tr>\n",
       "            <td>yem </td> <td>5166311         </td> <td>7.29                              </td> <td>425.5                                </td>\n",
       "        </tr>\n",
       "        <tr>\n",
       "            <td>zaf </td> <td>17396367        </td> <td>6.17                              </td> <td>194.9                                </td>\n",
       "        </tr>\n",
       "    </tbody>\n",
       "</table>"
      ],
      "text/plain": [
       "<IPython.core.display.HTML object>"
      ]
     },
     "metadata": {},
     "output_type": "display_data"
    }
   ],
   "source": [
    "stats_for_year(1960).show()"
   ]
  },
  {
   "cell_type": "code",
   "execution_count": 30,
   "metadata": {
    "deletable": false,
    "editable": false
   },
   "outputs": [
    {
     "name": "stdout",
     "output_type": "stream",
     "text": [
      "~~~~~~~~~~~~~~~~~~~~~~~~~~~~~~~~~~~~~~~~~~~~~~~~~~~~~~~~~~~~~~~~~~~~~\n",
      "Running tests\n",
      "\n",
      "---------------------------------------------------------------------\n",
      "Test summary\n",
      "    Passed: 4\n",
      "    Failed: 0\n",
      "[ooooooooook] 100.0% passed\n",
      "\n"
     ]
    }
   ],
   "source": [
    "_ = ok.grade('q1_11')"
   ]
  },
  {
   "cell_type": "markdown",
   "metadata": {
    "deletable": false,
    "editable": false
   },
   "source": [
    "**Question 12.** Create a table called `pop_by_decade` with two columns called `decade` and `population`. It has a row for each `year` since 1960 that starts a decade. The `population` column contains the total population of all countries included in the result of `stats_for_year(year)` for the first `year` of the decade. For example, 1960 is the first year of the 1960's decade. You should see that these countries contain most of the world's population.\n",
    "\n",
    "*Hint:* One approach is to define a function `pop_for_year` that computes this total population, then `apply` it to the `decade` column.  The `stats_for_year` function from the previous question may be useful here.\n",
    "\n",
    "**Note:** The `pop_by_decade` cell is directly below the cell containing the helper function `pop_for_year`. This is where you will generate the `pop_by_decade` table!"
   ]
  },
  {
   "cell_type": "code",
   "execution_count": 31,
   "metadata": {},
   "outputs": [],
   "source": [
    "#function to return the sum of the population for all countries appearing in stats_per_year for a given year\n",
    "def pop_for_year(year):\n",
    "    year_pop = sum(stats_for_year(year).column(\"population_total\"))\n",
    "    return year_pop"
   ]
  },
  {
   "cell_type": "markdown",
   "metadata": {
    "deletable": false,
    "editable": false
   },
   "source": [
    "This test is just a sanity check for your helper function if you choose to use it. You will not lose points for not implementing the function `pop_for_year`."
   ]
  },
  {
   "cell_type": "code",
   "execution_count": 32,
   "metadata": {},
   "outputs": [
    {
     "name": "stdout",
     "output_type": "stream",
     "text": [
      "~~~~~~~~~~~~~~~~~~~~~~~~~~~~~~~~~~~~~~~~~~~~~~~~~~~~~~~~~~~~~~~~~~~~~\n",
      "Running tests\n",
      "\n",
      "---------------------------------------------------------------------\n",
      "Test summary\n",
      "    Passed: 1\n",
      "    Failed: 0\n",
      "[ooooooooook] 100.0% passed\n",
      "\n"
     ]
    }
   ],
   "source": [
    "_ = ok.grade('q1_12_0')"
   ]
  },
  {
   "cell_type": "code",
   "execution_count": 33,
   "metadata": {
    "deletable": false
   },
   "outputs": [
    {
     "data": {
      "text/html": [
       "<table border=\"1\" class=\"dataframe\">\n",
       "    <thead>\n",
       "        <tr>\n",
       "            <th>decade</th> <th>population</th>\n",
       "        </tr>\n",
       "    </thead>\n",
       "    <tbody>\n",
       "        <tr>\n",
       "            <td>1960  </td> <td>2,624,944,597</td>\n",
       "        </tr>\n",
       "        <tr>\n",
       "            <td>1970  </td> <td>3,211,487,418</td>\n",
       "        </tr>\n",
       "        <tr>\n",
       "            <td>1980  </td> <td>3,880,722,003</td>\n",
       "        </tr>\n",
       "        <tr>\n",
       "            <td>1990  </td> <td>4,648,434,558</td>\n",
       "        </tr>\n",
       "        <tr>\n",
       "            <td>2000  </td> <td>5,367,553,063</td>\n",
       "        </tr>\n",
       "        <tr>\n",
       "            <td>2010  </td> <td>6,040,810,517</td>\n",
       "        </tr>\n",
       "    </tbody>\n",
       "</table>"
      ],
      "text/plain": [
       "<IPython.core.display.HTML object>"
      ]
     },
     "metadata": {},
     "output_type": "display_data"
    }
   ],
   "source": [
    "#creates new table with decade column with every start year of decade from 1960 to 2010\n",
    "pop_by_decade = Table().with_column('decade', np.arange(1960, 2011, 10))\n",
    "\n",
    "#array that is the result of applying pop_for_year to every year in the decade column of pop_by_decade\n",
    "pop_array = pop_by_decade.apply(pop_for_year, \"decade\")\n",
    "\n",
    "#adds pop_array to pop_by_decade table under column population\n",
    "pop_by_decade = pop_by_decade.with_column(\"population\", pop_array)\n",
    "\n",
    "pop_by_decade.set_format(1, NumberFormatter)\n",
    "\n",
    "\n",
    "pop_by_decade.show(10)\n"
   ]
  },
  {
   "cell_type": "code",
   "execution_count": 34,
   "metadata": {
    "deletable": false,
    "editable": false
   },
   "outputs": [
    {
     "name": "stdout",
     "output_type": "stream",
     "text": [
      "~~~~~~~~~~~~~~~~~~~~~~~~~~~~~~~~~~~~~~~~~~~~~~~~~~~~~~~~~~~~~~~~~~~~~\n",
      "Running tests\n",
      "\n",
      "---------------------------------------------------------------------\n",
      "Test summary\n",
      "    Passed: 2\n",
      "    Failed: 0\n",
      "[ooooooooook] 100.0% passed\n",
      "\n"
     ]
    }
   ],
   "source": [
    "_ = ok.grade('q1_12')"
   ]
  },
  {
   "cell_type": "markdown",
   "metadata": {
    "deletable": false,
    "editable": false
   },
   "source": [
    "The `countries` table describes various characteristics of countries. The `country` column contains the same codes as the `geo` column in each of the other data tables (`population`, `fertility`, and `child_mortality`). The `world_6region` column classifies each country into a region of the world. Run the cell below to inspect the data."
   ]
  },
  {
   "cell_type": "code",
   "execution_count": 35,
   "metadata": {
    "deletable": false,
    "editable": false
   },
   "outputs": [
    {
     "data": {
      "text/html": [
       "<table border=\"1\" class=\"dataframe\">\n",
       "    <thead>\n",
       "        <tr>\n",
       "            <th>country</th> <th>name</th> <th>world_6region</th>\n",
       "        </tr>\n",
       "    </thead>\n",
       "    <tbody>\n",
       "        <tr>\n",
       "            <td>afg      </td> <td>Afghanistan          </td> <td>south_asia              </td>\n",
       "        </tr>\n",
       "        <tr>\n",
       "            <td>akr_a_dhe</td> <td>Akrotiri and Dhekelia</td> <td>europe_central_asia     </td>\n",
       "        </tr>\n",
       "        <tr>\n",
       "            <td>alb      </td> <td>Albania              </td> <td>europe_central_asia     </td>\n",
       "        </tr>\n",
       "        <tr>\n",
       "            <td>dza      </td> <td>Algeria              </td> <td>middle_east_north_africa</td>\n",
       "        </tr>\n",
       "        <tr>\n",
       "            <td>asm      </td> <td>American Samoa       </td> <td>east_asia_pacific       </td>\n",
       "        </tr>\n",
       "        <tr>\n",
       "            <td>and      </td> <td>Andorra              </td> <td>europe_central_asia     </td>\n",
       "        </tr>\n",
       "        <tr>\n",
       "            <td>ago      </td> <td>Angola               </td> <td>sub_saharan_africa      </td>\n",
       "        </tr>\n",
       "        <tr>\n",
       "            <td>aia      </td> <td>Anguilla             </td> <td>america                 </td>\n",
       "        </tr>\n",
       "        <tr>\n",
       "            <td>atg      </td> <td>Antigua and Barbuda  </td> <td>america                 </td>\n",
       "        </tr>\n",
       "        <tr>\n",
       "            <td>arg      </td> <td>Argentina            </td> <td>america                 </td>\n",
       "        </tr>\n",
       "    </tbody>\n",
       "</table>\n",
       "<p>... (245 rows omitted)</p>"
      ],
      "text/plain": [
       "country   | name                  | world_6region\n",
       "afg       | Afghanistan           | south_asia\n",
       "akr_a_dhe | Akrotiri and Dhekelia | europe_central_asia\n",
       "alb       | Albania               | europe_central_asia\n",
       "dza       | Algeria               | middle_east_north_africa\n",
       "asm       | American Samoa        | east_asia_pacific\n",
       "and       | Andorra               | europe_central_asia\n",
       "ago       | Angola                | sub_saharan_africa\n",
       "aia       | Anguilla              | america\n",
       "atg       | Antigua and Barbuda   | america\n",
       "arg       | Argentina             | america\n",
       "... (245 rows omitted)"
      ]
     },
     "execution_count": 35,
     "metadata": {},
     "output_type": "execute_result"
    }
   ],
   "source": [
    "countries = Table.read_table('countries.csv').where('country', are.contained_in(population.group('geo').column(0)))\n",
    "countries.select('country', 'name', 'world_6region')"
   ]
  },
  {
   "cell_type": "markdown",
   "metadata": {
    "deletable": false,
    "editable": false
   },
   "source": [
    "**Question 13.** Create a table called `region_counts` that has two columns, `region` and `count`. It should describe the count of how many countries in each region appear in the result of `stats_for_year(1960)`. For example, one row would have `south_asia` as its `world_6region` value and an integer as its `count` value: the number of large South Asian countries for which we have population, fertility, and child mortality numbers from 1960."
   ]
  },
  {
   "cell_type": "code",
   "execution_count": 36,
   "metadata": {
    "deletable": false
   },
   "outputs": [
    {
     "data": {
      "text/html": [
       "<table border=\"1\" class=\"dataframe\">\n",
       "    <thead>\n",
       "        <tr>\n",
       "            <th>region</th> <th>count</th>\n",
       "        </tr>\n",
       "    </thead>\n",
       "    <tbody>\n",
       "        <tr>\n",
       "            <td>america                 </td> <td>8    </td>\n",
       "        </tr>\n",
       "        <tr>\n",
       "            <td>east_asia_pacific       </td> <td>10   </td>\n",
       "        </tr>\n",
       "        <tr>\n",
       "            <td>europe_central_asia     </td> <td>10   </td>\n",
       "        </tr>\n",
       "        <tr>\n",
       "            <td>middle_east_north_africa</td> <td>7    </td>\n",
       "        </tr>\n",
       "        <tr>\n",
       "            <td>south_asia              </td> <td>5    </td>\n",
       "        </tr>\n",
       "        <tr>\n",
       "            <td>sub_saharan_africa      </td> <td>10   </td>\n",
       "        </tr>\n",
       "    </tbody>\n",
       "</table>"
      ],
      "text/plain": [
       "region                   | count\n",
       "america                  | 8\n",
       "east_asia_pacific        | 10\n",
       "europe_central_asia      | 10\n",
       "middle_east_north_africa | 7\n",
       "south_asia               | 5\n",
       "sub_saharan_africa       | 10"
      ]
     },
     "execution_count": 36,
     "metadata": {},
     "output_type": "execute_result"
    }
   ],
   "source": [
    "#creates a new table of the resulting table of stats_per_year in 1960 and the countries table where the alpha code appears in both\n",
    "combined = stats_for_year(1960).join(\"geo\", countries, \"country\")\n",
    "\n",
    "#grouping by region return rows with the name of the region and the length of an array (the number of countries)\n",
    "combined = combined.group(\"world_6region\")\n",
    "\n",
    "region_counts = combined.relabeled(\"world_6region\", \"region\")\n",
    "region_counts"
   ]
  },
  {
   "cell_type": "code",
   "execution_count": 37,
   "metadata": {
    "deletable": false,
    "editable": false
   },
   "outputs": [
    {
     "name": "stdout",
     "output_type": "stream",
     "text": [
      "~~~~~~~~~~~~~~~~~~~~~~~~~~~~~~~~~~~~~~~~~~~~~~~~~~~~~~~~~~~~~~~~~~~~~\n",
      "Running tests\n",
      "\n",
      "---------------------------------------------------------------------\n",
      "Test summary\n",
      "    Passed: 2\n",
      "    Failed: 0\n",
      "[ooooooooook] 100.0% passed\n",
      "\n"
     ]
    }
   ],
   "source": [
    "_ = ok.grade('q1_13')"
   ]
  },
  {
   "cell_type": "markdown",
   "metadata": {
    "deletable": false,
    "editable": false
   },
   "source": [
    "The following scatter diagram compares total fertility rate and child mortality rate for each country in 1960. The area of each dot represents the population of the country, and the color represents its region of the world. Run the cell. Do you think you can identify any of the dots?"
   ]
  },
  {
   "cell_type": "code",
   "execution_count": 38,
   "metadata": {
    "deletable": false
   },
   "outputs": [
    {
     "data": {
      "image/png": "[encoded data removed]",
      "text/plain": [
       "<Figure size 360x360 with 1 Axes>"
      ]
     },
     "metadata": {},
     "output_type": "display_data"
    }
   ],
   "source": [
    "from functools import lru_cache as cache\n",
    "\n",
    "# This cache annotation makes sure that if the same year\n",
    "# is passed as an argument twice, the work of computing\n",
    "# the result is only carried out once.\n",
    "@cache(None)\n",
    "def stats_relabeled(year):\n",
    "    \"\"\"Relabeled and cached version of stats_for_year.\"\"\"\n",
    "    return stats_for_year(year).relabeled(2, 'Children per woman').relabeled(3, 'Child deaths per 1000 born')\n",
    "\n",
    "def fertility_vs_child_mortality(year):\n",
    "    \"\"\"Draw a color scatter diagram comparing child mortality and fertility.\"\"\"\n",
    "    with_region = stats_relabeled(year).join('geo', countries.select('country', 'world_6region'), 'country')\n",
    "    with_region.scatter(2, 3, sizes=1, colors=4, s=500)\n",
    "    plots.xlim(0,10)\n",
    "    plots.ylim(-50, 500)\n",
    "    plots.title(year)\n",
    "\n",
    "fertility_vs_child_mortality(1960)"
   ]
  },
  {
   "cell_type": "markdown",
   "metadata": {
    "deletable": false,
    "editable": false
   },
   "source": [
    "**Question 14.** Assign `scatter_statements` to a list of the numbers of each statement below that can be inferred from this scatter diagram for 1960. \n",
    "1. The `europe_central_asia` region had the lowest child mortality rate.\n",
    "1. The lowest child mortality rate of any country was from an `east_asian_pacific` country.\n",
    "1. Most countries had a fertility rate above 5.\n",
    "1. There was an association between child mortality and fertility.\n",
    "1. The two largest countries by population also had the two highest child mortality rate."
   ]
  },
  {
   "cell_type": "code",
   "execution_count": 39,
   "metadata": {
    "deletable": false
   },
   "outputs": [],
   "source": [
    "scatter_statements = (1,3,4)"
   ]
  },
  {
   "cell_type": "code",
   "execution_count": 40,
   "metadata": {
    "deletable": false,
    "editable": false
   },
   "outputs": [
    {
     "name": "stdout",
     "output_type": "stream",
     "text": [
      "~~~~~~~~~~~~~~~~~~~~~~~~~~~~~~~~~~~~~~~~~~~~~~~~~~~~~~~~~~~~~~~~~~~~~\n",
      "Running tests\n",
      "\n",
      "---------------------------------------------------------------------\n",
      "Test summary\n",
      "    Passed: 1\n",
      "    Failed: 0\n",
      "[ooooooooook] 100.0% passed\n",
      "\n"
     ]
    }
   ],
   "source": [
    "_ = ok.grade('q1_14')"
   ]
  },
  {
   "cell_type": "markdown",
   "metadata": {
    "deletable": false
   },
   "source": [
    "The result of the cell below is interactive. Drag the slider to the right to see how countries have changed over time. You'll find that the great divide between so-called \"Western\" and \"developing\" countries that existed in the 1960's has nearly disappeared. This shift in fertility rates is the reason that the global population is expected to grow more slowly in the 21st century than it did in the 19th and 20th centuries.\n",
    "\n",
    "Also, if you get one, please ignore the warning message that's displayed here."
   ]
  },
  {
   "cell_type": "code",
   "execution_count": 41,
   "metadata": {
    "deletable": false,
    "scrolled": false
   },
   "outputs": [
    {
     "name": "stderr",
     "output_type": "stream",
     "text": [
      "//anaconda3/lib/python3.7/site-packages/datascience/tables.py:193: FutureWarning: Implicit column method lookup is deprecated.\n",
      "  warnings.warn(\"Implicit column method lookup is deprecated.\", FutureWarning)\n"
     ]
    },
    {
     "data": {
      "application/vnd.jupyter.widget-view+json": {
       "model_id": "c82a5bd5fa66424ead3b5c5559e62d00",
       "version_major": 2,
       "version_minor": 0
      },
      "text/plain": [
       "interactive(children=(IntSlider(value=1960, description='year', max=2015, min=1960), Output()), _dom_classes=(…"
      ]
     },
     "metadata": {},
     "output_type": "display_data"
    }
   ],
   "source": [
    "import ipywidgets as widgets\n",
    "\n",
    "# This part takes a few minutes to run because it \n",
    "# computes 55 tables in advance: one for each year.\n",
    "Table().with_column('Year', np.arange(1960, 2016)).apply(stats_relabeled, 'Year')\n",
    "\n",
    "_ = widgets.interact(fertility_vs_child_mortality, \n",
    "                     year=widgets.IntSlider(min=1960, max=2015, value=1960))"
   ]
  },
  {
   "cell_type": "markdown",
   "metadata": {
    "deletable": false,
    "editable": false
   },
   "source": [
    "Now is a great time to take a break and watch the same data presented by [Hans Rosling in a 2010 TEDx talk](https://www.gapminder.org/videos/reducing-child-mortality-a-moral-and-environmental-imperative) with smoother animation and witty commentary."
   ]
  },
  {
   "cell_type": "markdown",
   "metadata": {
    "deletable": false,
    "editable": false
   },
   "source": [
    "## 2. Global Poverty\n"
   ]
  },
  {
   "cell_type": "markdown",
   "metadata": {
    "deletable": false,
    "editable": false
   },
   "source": [
    "In 1800, 85% of the world's 1 billion people lived in *extreme poverty*, defined by the United Nations as \"a condition characterized by severe deprivation of basic human needs, including food, safe drinking water, sanitation facilities, health, shelter, education and information.\" A common measure of extreme poverty is a person living on less than \\$1.25 per day.\n",
    "\n",
    "In 2018, the proportion of people living in extreme poverty was estimated to be 8%. Although the world rate of extreme poverty has declined consistently for hundreds of years, the number of people living in extreme poverty is still over 600 million. The United Nations recently adopted an [ambitious goal](http://www.un.org/sustainabledevelopment/poverty/): \"By 2030, eradicate extreme poverty for all people everywhere.\"\n",
    "In this section, we will examine extreme poverty trends around the world."
   ]
  },
  {
   "cell_type": "markdown",
   "metadata": {
    "deletable": false,
    "editable": false
   },
   "source": [
    "First, load the population and poverty rate by country and year and the country descriptions. While the `population` table has values for every recent year for many countries, the `poverty` table only includes certain years for each country in which a measurement of the rate of extreme poverty was available."
   ]
  },
  {
   "cell_type": "code",
   "execution_count": 42,
   "metadata": {
    "deletable": false,
    "editable": false
   },
   "outputs": [
    {
     "data": {
      "text/html": [
       "<table border=\"1\" class=\"dataframe\">\n",
       "    <thead>\n",
       "        <tr>\n",
       "            <th>geo</th> <th>time</th> <th>extreme_poverty_percent_people_below_125_a_day</th>\n",
       "        </tr>\n",
       "    </thead>\n",
       "    <tbody>\n",
       "        <tr>\n",
       "            <td>alb </td> <td>1996</td> <td>0.2                                           </td>\n",
       "        </tr>\n",
       "        <tr>\n",
       "            <td>alb </td> <td>2002</td> <td>0.73                                          </td>\n",
       "        </tr>\n",
       "        <tr>\n",
       "            <td>alb </td> <td>2004</td> <td>0.53                                          </td>\n",
       "        </tr>\n",
       "    </tbody>\n",
       "</table>\n",
       "<p>... (1096 rows omitted)</p>"
      ],
      "text/plain": [
       "<IPython.core.display.HTML object>"
      ]
     },
     "metadata": {},
     "output_type": "display_data"
    }
   ],
   "source": [
    "population = Table.read_table('population.csv')\n",
    "countries = Table.read_table('countries.csv').where('country', are.contained_in(population.group('geo').column(0)))\n",
    "poverty = Table.read_table('poverty.csv')\n",
    "poverty.show(3)"
   ]
  },
  {
   "cell_type": "markdown",
   "metadata": {
    "deletable": false,
    "editable": false
   },
   "source": [
    "**Question 1.** Assign `latest_poverty` to a three-column table with one row for each country that appears in the `poverty` table. The first column should contain the 3-letter code for the country. The second column should contain the *most recent_poverty_total year* for which an extreme poverty rate is available for the country. The third column should contain the poverty rate in that year. **Do not change the last line, so that the labels of your table are set correctly.**\n",
    "\n",
    "*Hint*: think about how ```group``` works: it does a sequential search of the table (from top to bottom) and collects values in the array in the order in which they appear, and then applies a function to that array. The `first` function may be helpful, but you are not required to use it."
   ]
  },
  {
   "cell_type": "code",
   "execution_count": 53,
   "metadata": {
    "deletable": false
   },
   "outputs": [
    {
     "data": {
      "text/html": [
       "<table border=\"1\" class=\"dataframe\">\n",
       "    <thead>\n",
       "        <tr>\n",
       "            <th>geo</th> <th>time</th> <th>poverty_percent</th>\n",
       "        </tr>\n",
       "    </thead>\n",
       "    <tbody>\n",
       "        <tr>\n",
       "            <td>ago </td> <td>2009</td> <td>43.37          </td>\n",
       "        </tr>\n",
       "        <tr>\n",
       "            <td>alb </td> <td>2012</td> <td>0.46           </td>\n",
       "        </tr>\n",
       "        <tr>\n",
       "            <td>arg </td> <td>2011</td> <td>1.41           </td>\n",
       "        </tr>\n",
       "        <tr>\n",
       "            <td>arm </td> <td>2012</td> <td>1.75           </td>\n",
       "        </tr>\n",
       "        <tr>\n",
       "            <td>aus </td> <td>2003</td> <td>1.36           </td>\n",
       "        </tr>\n",
       "        <tr>\n",
       "            <td>aut </td> <td>2004</td> <td>0.34           </td>\n",
       "        </tr>\n",
       "        <tr>\n",
       "            <td>aze </td> <td>2008</td> <td>0.31           </td>\n",
       "        </tr>\n",
       "        <tr>\n",
       "            <td>bdi </td> <td>2006</td> <td>81.32          </td>\n",
       "        </tr>\n",
       "        <tr>\n",
       "            <td>bel </td> <td>2000</td> <td>0.5            </td>\n",
       "        </tr>\n",
       "        <tr>\n",
       "            <td>ben </td> <td>2012</td> <td>51.61          </td>\n",
       "        </tr>\n",
       "    </tbody>\n",
       "</table>\n",
       "<p>... (135 rows omitted)</p>"
      ],
      "text/plain": [
       "geo  | time | poverty_percent\n",
       "ago  | 2009 | 43.37\n",
       "alb  | 2012 | 0.46\n",
       "arg  | 2011 | 1.41\n",
       "arm  | 2012 | 1.75\n",
       "aus  | 2003 | 1.36\n",
       "aut  | 2004 | 0.34\n",
       "aze  | 2008 | 0.31\n",
       "bdi  | 2006 | 81.32\n",
       "bel  | 2000 | 0.5\n",
       "ben  | 2012 | 51.61\n",
       "... (135 rows omitted)"
      ]
     },
     "execution_count": 53,
     "metadata": {},
     "output_type": "execute_result"
    }
   ],
   "source": [
    "# returns first item in array\n",
    "def first(values):\n",
    "    return values.item(0)\n",
    "\n",
    "#sorts poverty table by time; groups by country; applies function first select most recent row per country\n",
    "latest_poverty = poverty.sort(1, descending = True).group(\"geo\", first)\n",
    "\n",
    "latest_poverty.relabel(0, 'geo').relabel(1, 'time').relabel(2, 'poverty_percent') # You should *not* change this line.\n",
    "\n",
    "latest_poverty"
   ]
  },
  {
   "cell_type": "code",
   "execution_count": 54,
   "metadata": {
    "deletable": false
   },
   "outputs": [
    {
     "name": "stdout",
     "output_type": "stream",
     "text": [
      "~~~~~~~~~~~~~~~~~~~~~~~~~~~~~~~~~~~~~~~~~~~~~~~~~~~~~~~~~~~~~~~~~~~~~\n",
      "Running tests\n",
      "\n",
      "---------------------------------------------------------------------\n",
      "Test summary\n",
      "    Passed: 2\n",
      "    Failed: 0\n",
      "[ooooooooook] 100.0% passed\n",
      "\n"
     ]
    }
   ],
   "source": [
    "_ = ok.grade('q2_1')"
   ]
  },
  {
   "cell_type": "markdown",
   "metadata": {
    "deletable": false,
    "editable": false
   },
   "source": [
    "**Question 2.** Using both `latest_poverty` and `population`, create a four-column table called `recent_poverty_total` with one row for each country in `latest_poverty`. The four columns should have the following labels and contents:\n",
    "1. `geo` contains the 3-letter country code,\n",
    "1. `poverty_percent` contains the most recent poverty percent,\n",
    "1. `population_total` contains the population of the country in 2010,\n",
    "1. `poverty_total` contains the number of people in poverty **rounded to the nearest integer**, based on the 2010 population and most recent poverty rate."
   ]
  },
  {
   "cell_type": "code",
   "execution_count": 55,
   "metadata": {
    "deletable": false
   },
   "outputs": [
    {
     "data": {
      "text/html": [
       "<table border=\"1\" class=\"dataframe\">\n",
       "    <thead>\n",
       "        <tr>\n",
       "            <th>geo</th> <th>poverty_percent</th> <th>population_total</th> <th>poverty_total</th>\n",
       "        </tr>\n",
       "    </thead>\n",
       "    <tbody>\n",
       "        <tr>\n",
       "            <td>ago </td> <td>43.37          </td> <td>21219954        </td> <td>9.20309e+06  </td>\n",
       "        </tr>\n",
       "        <tr>\n",
       "            <td>alb </td> <td>0.46           </td> <td>2901883         </td> <td>13349        </td>\n",
       "        </tr>\n",
       "        <tr>\n",
       "            <td>arg </td> <td>1.41           </td> <td>41222875        </td> <td>581243       </td>\n",
       "        </tr>\n",
       "        <tr>\n",
       "            <td>arm </td> <td>1.75           </td> <td>2963496         </td> <td>51861        </td>\n",
       "        </tr>\n",
       "        <tr>\n",
       "            <td>aus </td> <td>1.36           </td> <td>22162863        </td> <td>301415       </td>\n",
       "        </tr>\n",
       "        <tr>\n",
       "            <td>aut </td> <td>0.34           </td> <td>8391986         </td> <td>28533        </td>\n",
       "        </tr>\n",
       "        <tr>\n",
       "            <td>aze </td> <td>0.31           </td> <td>9099893         </td> <td>28210        </td>\n",
       "        </tr>\n",
       "        <tr>\n",
       "            <td>bdi </td> <td>81.32          </td> <td>9461117         </td> <td>7.69378e+06  </td>\n",
       "        </tr>\n",
       "        <tr>\n",
       "            <td>bel </td> <td>0.5            </td> <td>10929978        </td> <td>54650        </td>\n",
       "        </tr>\n",
       "        <tr>\n",
       "            <td>ben </td> <td>51.61          </td> <td>9509798         </td> <td>4.90801e+06  </td>\n",
       "        </tr>\n",
       "    </tbody>\n",
       "</table>\n",
       "<p>... (135 rows omitted)</p>"
      ],
      "text/plain": [
       "geo  | poverty_percent | population_total | poverty_total\n",
       "ago  | 43.37           | 21219954         | 9.20309e+06\n",
       "alb  | 0.46            | 2901883          | 13349\n",
       "arg  | 1.41            | 41222875         | 581243\n",
       "arm  | 1.75            | 2963496          | 51861\n",
       "aus  | 1.36            | 22162863         | 301415\n",
       "aut  | 0.34            | 8391986          | 28533\n",
       "aze  | 0.31            | 9099893          | 28210\n",
       "bdi  | 81.32           | 9461117          | 7.69378e+06\n",
       "bel  | 0.5             | 10929978         | 54650\n",
       "ben  | 51.61           | 9509798          | 4.90801e+06\n",
       "... (135 rows omitted)"
      ]
     },
     "execution_count": 55,
     "metadata": {},
     "output_type": "execute_result"
    }
   ],
   "source": [
    "# function to round poverty_total to nearest integer\n",
    "def round_pop(value):\n",
    "    return round(value)\n",
    "\n",
    "poverty_and_pop = latest_poverty.drop(1).join(\"geo\", population.where(\"time\", 2010)).drop(2)\n",
    "recent_poverty_total = poverty_and_pop.with_column(\"poverty_total_unrounded\", poverty_and_pop.column(2)*(poverty_and_pop.column(1)/100))\n",
    "recent_poverty_array = recent_poverty_total.apply(round_pop, \"poverty_total_unrounded\")\n",
    "recent_poverty_total = recent_poverty_total.with_column(\"poverty_total\", recent_poverty_array)\n",
    "recent_poverty_total = recent_poverty_total.drop(3)\n",
    "recent_poverty_total\n",
    "\n"
   ]
  },
  {
   "cell_type": "code",
   "execution_count": 56,
   "metadata": {
    "deletable": false,
    "editable": false
   },
   "outputs": [
    {
     "name": "stdout",
     "output_type": "stream",
     "text": [
      "~~~~~~~~~~~~~~~~~~~~~~~~~~~~~~~~~~~~~~~~~~~~~~~~~~~~~~~~~~~~~~~~~~~~~\n",
      "Running tests\n",
      "\n",
      "---------------------------------------------------------------------\n",
      "Test summary\n",
      "    Passed: 3\n",
      "    Failed: 0\n",
      "[ooooooooook] 100.0% passed\n",
      "\n"
     ]
    }
   ],
   "source": [
    "_ = ok.grade('q2_2')"
   ]
  },
  {
   "cell_type": "markdown",
   "metadata": {
    "deletable": false,
    "editable": false
   },
   "source": [
    "**Question 3.** Assuming that the `poverty_total` numbers in the `recent_poverty_total` table describe *all* people in 2010 living in extreme poverty, assign the name `poverty_percent` to the percentage of the world's 2010 population that were living in extreme poverty. You should find a number that is above the 2018 global estimate of 8%, since many country-specific poverty rates are older than 2018.\n",
    "\n",
    "*Hint*: The sum of the `population_total` column in the `recent_poverty_total` table is not the world population, because only a subset of the world's countries have known poverty rates. Use the `population` table to compute the world's 2010 total population."
   ]
  },
  {
   "cell_type": "code",
   "execution_count": 57,
   "metadata": {
    "deletable": false
   },
   "outputs": [
    {
     "data": {
      "text/plain": [
       "14.299370218520854"
      ]
     },
     "execution_count": 57,
     "metadata": {},
     "output_type": "execute_result"
    }
   ],
   "source": [
    "world_population_total_2010 = sum(population.where(\"time\", 2010).column(\"population_total\"))\n",
    "poverty_percent = (sum(recent_poverty_total.column(\"poverty_total\")) / world_population_total_2010) * 100\n",
    "poverty_percent"
   ]
  },
  {
   "cell_type": "code",
   "execution_count": 58,
   "metadata": {
    "deletable": false,
    "editable": false
   },
   "outputs": [
    {
     "name": "stdout",
     "output_type": "stream",
     "text": [
      "~~~~~~~~~~~~~~~~~~~~~~~~~~~~~~~~~~~~~~~~~~~~~~~~~~~~~~~~~~~~~~~~~~~~~\n",
      "Running tests\n",
      "\n",
      "---------------------------------------------------------------------\n",
      "Test summary\n",
      "    Passed: 1\n",
      "    Failed: 0\n",
      "[ooooooooook] 100.0% passed\n",
      "\n"
     ]
    }
   ],
   "source": [
    "_ = ok.grade('q2_3')"
   ]
  },
  {
   "cell_type": "markdown",
   "metadata": {
    "deletable": false,
    "editable": false
   },
   "source": [
    "The `countries` table includes not only the name and region of countries, but also their positions on the globe."
   ]
  },
  {
   "cell_type": "code",
   "execution_count": 59,
   "metadata": {
    "deletable": false,
    "editable": false
   },
   "outputs": [
    {
     "data": {
      "text/html": [
       "<table border=\"1\" class=\"dataframe\">\n",
       "    <thead>\n",
       "        <tr>\n",
       "            <th>country</th> <th>name</th> <th>world_4region</th> <th>latitude</th> <th>longitude</th>\n",
       "        </tr>\n",
       "    </thead>\n",
       "    <tbody>\n",
       "        <tr>\n",
       "            <td>afg      </td> <td>Afghanistan          </td> <td>asia         </td> <td>33      </td> <td>66       </td>\n",
       "        </tr>\n",
       "        <tr>\n",
       "            <td>akr_a_dhe</td> <td>Akrotiri and Dhekelia</td> <td>europe       </td> <td>nan     </td> <td>nan      </td>\n",
       "        </tr>\n",
       "        <tr>\n",
       "            <td>alb      </td> <td>Albania              </td> <td>europe       </td> <td>41      </td> <td>20       </td>\n",
       "        </tr>\n",
       "        <tr>\n",
       "            <td>dza      </td> <td>Algeria              </td> <td>africa       </td> <td>28      </td> <td>3        </td>\n",
       "        </tr>\n",
       "        <tr>\n",
       "            <td>asm      </td> <td>American Samoa       </td> <td>asia         </td> <td>-11.056 </td> <td>-171.082 </td>\n",
       "        </tr>\n",
       "        <tr>\n",
       "            <td>and      </td> <td>Andorra              </td> <td>europe       </td> <td>42.5078 </td> <td>1.52109  </td>\n",
       "        </tr>\n",
       "        <tr>\n",
       "            <td>ago      </td> <td>Angola               </td> <td>africa       </td> <td>-12.5   </td> <td>18.5     </td>\n",
       "        </tr>\n",
       "        <tr>\n",
       "            <td>aia      </td> <td>Anguilla             </td> <td>americas     </td> <td>18.2167 </td> <td>-63.05   </td>\n",
       "        </tr>\n",
       "        <tr>\n",
       "            <td>atg      </td> <td>Antigua and Barbuda  </td> <td>americas     </td> <td>17.05   </td> <td>-61.8    </td>\n",
       "        </tr>\n",
       "        <tr>\n",
       "            <td>arg      </td> <td>Argentina            </td> <td>americas     </td> <td>-34     </td> <td>-64      </td>\n",
       "        </tr>\n",
       "    </tbody>\n",
       "</table>\n",
       "<p>... (245 rows omitted)</p>"
      ],
      "text/plain": [
       "country   | name                  | world_4region | latitude | longitude\n",
       "afg       | Afghanistan           | asia          | 33       | 66\n",
       "akr_a_dhe | Akrotiri and Dhekelia | europe        | nan      | nan\n",
       "alb       | Albania               | europe        | 41       | 20\n",
       "dza       | Algeria               | africa        | 28       | 3\n",
       "asm       | American Samoa        | asia          | -11.056  | -171.082\n",
       "and       | Andorra               | europe        | 42.5078  | 1.52109\n",
       "ago       | Angola                | africa        | -12.5    | 18.5\n",
       "aia       | Anguilla              | americas      | 18.2167  | -63.05\n",
       "atg       | Antigua and Barbuda   | americas      | 17.05    | -61.8\n",
       "arg       | Argentina             | americas      | -34      | -64\n",
       "... (245 rows omitted)"
      ]
     },
     "execution_count": 59,
     "metadata": {},
     "output_type": "execute_result"
    }
   ],
   "source": [
    "countries.select('country', 'name', 'world_4region', 'latitude', 'longitude')"
   ]
  },
  {
   "cell_type": "markdown",
   "metadata": {
    "deletable": false,
    "editable": false
   },
   "source": [
    "**Question 4.** Using both `countries` and `recent_poverty_total`, create a five-column table called `poverty_map` with one row for every country in `recent_poverty_total`.  The four columns should have the following labels and contents:\n",
    "1. `latitude` contains the country's latitude,\n",
    "1. `longitude` contains the country's longitude,\n",
    "1. `name` contains the country's name,\n",
    "1. `region` contains the country's region from the `world_4region` column of `countries`,\n",
    "1. `poverty_total` contains the country's poverty total."
   ]
  },
  {
   "cell_type": "code",
   "execution_count": 60,
   "metadata": {
    "deletable": false
   },
   "outputs": [
    {
     "data": {
      "text/html": [
       "<table border=\"1\" class=\"dataframe\">\n",
       "    <thead>\n",
       "        <tr>\n",
       "            <th>latitude</th> <th>longitude</th> <th>name</th> <th>region</th> <th>poverty_total</th>\n",
       "        </tr>\n",
       "    </thead>\n",
       "    <tbody>\n",
       "        <tr>\n",
       "            <td>-12.5   </td> <td>18.5     </td> <td>Angola    </td> <td>africa  </td> <td>9.20309e+06  </td>\n",
       "        </tr>\n",
       "        <tr>\n",
       "            <td>41      </td> <td>20       </td> <td>Albania   </td> <td>europe  </td> <td>13349        </td>\n",
       "        </tr>\n",
       "        <tr>\n",
       "            <td>-34     </td> <td>-64      </td> <td>Argentina </td> <td>americas</td> <td>581243       </td>\n",
       "        </tr>\n",
       "        <tr>\n",
       "            <td>40.25   </td> <td>45       </td> <td>Armenia   </td> <td>europe  </td> <td>51861        </td>\n",
       "        </tr>\n",
       "        <tr>\n",
       "            <td>-25     </td> <td>135      </td> <td>Australia </td> <td>asia    </td> <td>301415       </td>\n",
       "        </tr>\n",
       "        <tr>\n",
       "            <td>47.3333 </td> <td>13.3333  </td> <td>Austria   </td> <td>europe  </td> <td>28533        </td>\n",
       "        </tr>\n",
       "        <tr>\n",
       "            <td>40.5    </td> <td>47.5     </td> <td>Azerbaijan</td> <td>europe  </td> <td>28210        </td>\n",
       "        </tr>\n",
       "        <tr>\n",
       "            <td>-3.5    </td> <td>30       </td> <td>Burundi   </td> <td>africa  </td> <td>7.69378e+06  </td>\n",
       "        </tr>\n",
       "        <tr>\n",
       "            <td>50.75   </td> <td>4.5      </td> <td>Belgium   </td> <td>europe  </td> <td>54650        </td>\n",
       "        </tr>\n",
       "        <tr>\n",
       "            <td>9.5     </td> <td>2.25     </td> <td>Benin     </td> <td>africa  </td> <td>4.90801e+06  </td>\n",
       "        </tr>\n",
       "    </tbody>\n",
       "</table>\n",
       "<p>... (135 rows omitted)</p>"
      ],
      "text/plain": [
       "latitude | longitude | name       | region   | poverty_total\n",
       "-12.5    | 18.5      | Angola     | africa   | 9.20309e+06\n",
       "41       | 20        | Albania    | europe   | 13349\n",
       "-34      | -64       | Argentina  | americas | 581243\n",
       "40.25    | 45        | Armenia    | europe   | 51861\n",
       "-25      | 135       | Australia  | asia     | 301415\n",
       "47.3333  | 13.3333   | Austria    | europe   | 28533\n",
       "40.5     | 47.5      | Azerbaijan | europe   | 28210\n",
       "-3.5     | 30        | Burundi    | africa   | 7.69378e+06\n",
       "50.75    | 4.5       | Belgium    | europe   | 54650\n",
       "9.5      | 2.25      | Benin      | africa   | 4.90801e+06\n",
       "... (135 rows omitted)"
      ]
     },
     "execution_count": 60,
     "metadata": {},
     "output_type": "execute_result"
    }
   ],
   "source": [
    "countries = countries.relabeled(0, \"geo\")\n",
    "joined_table = recent_poverty_total.join(\"geo\", countries.select('geo', 'name', 'world_4region', 'latitude', 'longitude'))\n",
    "poverty_map = Table().with_columns(\"latitude\", joined_table.column(\"latitude\"),\n",
    "                                  \"longitude\", joined_table.column(\"longitude\"),\n",
    "                                  \"name\", joined_table.column(\"name\"),\n",
    "                                  \"region\", joined_table.column(\"world_4region\"),\n",
    "                                  \"poverty_total\", joined_table.column(\"poverty_total\"))\n",
    "poverty_map"
   ]
  },
  {
   "cell_type": "code",
   "execution_count": 61,
   "metadata": {
    "deletable": false,
    "editable": false
   },
   "outputs": [
    {
     "name": "stdout",
     "output_type": "stream",
     "text": [
      "~~~~~~~~~~~~~~~~~~~~~~~~~~~~~~~~~~~~~~~~~~~~~~~~~~~~~~~~~~~~~~~~~~~~~\n",
      "Running tests\n",
      "\n",
      "---------------------------------------------------------------------\n",
      "Test summary\n",
      "    Passed: 2\n",
      "    Failed: 0\n",
      "[ooooooooook] 100.0% passed\n",
      "\n"
     ]
    }
   ],
   "source": [
    "_ = ok.grade('q2_4')"
   ]
  },
  {
   "cell_type": "markdown",
   "metadata": {
    "deletable": false,
    "editable": false
   },
   "source": [
    "Run the cell below to draw a map of the world in which the areas of circles represent the number of people living in extreme poverty. Double-click on the map to zoom in."
   ]
  },
  {
   "cell_type": "code",
   "execution_count": 62,
   "metadata": {
    "deletable": false,
    "editable": false,
    "scrolled": true
   },
   "outputs": [
    {
     "data": {
      "text/html": [
       "<div style=\"width:100%;\"><div style=\"position:relative;width:100%;height:0;padding-bottom:60%;\"><iframe src=\"data:text/html;charset=utf-8;base64,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\" style=\"position:absolute;width:100%;height:100%;left:0;top:0;border:none !important;\" allowfullscreen webkitallowfullscreen mozallowfullscreen></iframe></div></div>"
      ],
      "text/plain": [
       "<datascience.maps.Map at 0x1089bc518>"
      ]
     },
     "execution_count": 62,
     "metadata": {},
     "output_type": "execute_result"
    }
   ],
   "source": [
    "# It may take a few seconds to generate this map.\n",
    "colors = {'africa': 'blue', 'europe': 'black', 'asia': 'red', 'americas': 'green'}\n",
    "scaled = poverty_map.with_columns(\n",
    "    'poverty_total', 2e4 * poverty_map.column('poverty_total'),\n",
    "    'region', poverty_map.apply(colors.get, 'region')\n",
    ")\n",
    "Circle.map_table(scaled)"
   ]
  },
  {
   "cell_type": "markdown",
   "metadata": {
    "deletable": false,
    "editable": false
   },
   "source": [
    "Although people live in extreme poverty throughout the world (with more than 5 million in the United States), the largest numbers are in Asia and Africa."
   ]
  },
  {
   "cell_type": "markdown",
   "metadata": {
    "deletable": false,
    "editable": false
   },
   "source": [
    "**Question 5.** Assign `largest` to a two-column table with the `name` (not the 3-letter code) and `poverty_total` of the 10 countries with the largest number of people living in extreme poverty."
   ]
  },
  {
   "cell_type": "code",
   "execution_count": 63,
   "metadata": {
    "deletable": false
   },
   "outputs": [
    {
     "data": {
      "text/html": [
       "<table border=\"1\" class=\"dataframe\">\n",
       "    <thead>\n",
       "        <tr>\n",
       "            <th>name</th> <th>poverty_total</th>\n",
       "        </tr>\n",
       "    </thead>\n",
       "    <tbody>\n",
       "        <tr>\n",
       "            <td>India           </td> <td>2.90882e+08  </td>\n",
       "        </tr>\n",
       "        <tr>\n",
       "            <td>Nigeria         </td> <td>9.88912e+07  </td>\n",
       "        </tr>\n",
       "        <tr>\n",
       "            <td>China           </td> <td>8.39446e+07  </td>\n",
       "        </tr>\n",
       "        <tr>\n",
       "            <td>Bangladesh      </td> <td>6.55743e+07  </td>\n",
       "        </tr>\n",
       "        <tr>\n",
       "            <td>Congo, Dem. Rep.</td> <td>5.78414e+07  </td>\n",
       "        </tr>\n",
       "        <tr>\n",
       "            <td>Indonesia       </td> <td>3.91413e+07  </td>\n",
       "        </tr>\n",
       "        <tr>\n",
       "            <td>Ethiopia        </td> <td>3.2214e+07   </td>\n",
       "        </tr>\n",
       "        <tr>\n",
       "            <td>Pakistan        </td> <td>2.16636e+07  </td>\n",
       "        </tr>\n",
       "        <tr>\n",
       "            <td>Tanzania        </td> <td>1.9848e+07   </td>\n",
       "        </tr>\n",
       "        <tr>\n",
       "            <td>Madagascar      </td> <td>1.84804e+07  </td>\n",
       "        </tr>\n",
       "    </tbody>\n",
       "</table>"
      ],
      "text/plain": [
       "name             | poverty_total\n",
       "India            | 2.90882e+08\n",
       "Nigeria          | 9.88912e+07\n",
       "China            | 8.39446e+07\n",
       "Bangladesh       | 6.55743e+07\n",
       "Congo, Dem. Rep. | 5.78414e+07\n",
       "Indonesia        | 3.91413e+07\n",
       "Ethiopia         | 3.2214e+07\n",
       "Pakistan         | 2.16636e+07\n",
       "Tanzania         | 1.9848e+07\n",
       "Madagascar       | 1.84804e+07"
      ]
     },
     "execution_count": 63,
     "metadata": {},
     "output_type": "execute_result"
    }
   ],
   "source": [
    "largest = poverty_map.sort(\"poverty_total\", descending = True).select(\"name\", \"poverty_total\").take(np.arange(0,10))\n",
    "largest"
   ]
  },
  {
   "cell_type": "code",
   "execution_count": 64,
   "metadata": {
    "deletable": false,
    "editable": false
   },
   "outputs": [
    {
     "name": "stdout",
     "output_type": "stream",
     "text": [
      "~~~~~~~~~~~~~~~~~~~~~~~~~~~~~~~~~~~~~~~~~~~~~~~~~~~~~~~~~~~~~~~~~~~~~\n",
      "Running tests\n",
      "\n",
      "---------------------------------------------------------------------\n",
      "Test summary\n",
      "    Passed: 3\n",
      "    Failed: 0\n",
      "[ooooooooook] 100.0% passed\n",
      "\n"
     ]
    }
   ],
   "source": [
    "_ = ok.grade('q2_5')"
   ]
  },
  {
   "cell_type": "markdown",
   "metadata": {
    "deletable": false
   },
   "source": [
    "**Question 6.** Write a function called `poverty_timeline` that takes **the name of a country** as its argument. It should draw a line plot of the number of people living in poverty in that country with time on the horizontal axis. The line plot should have a point for each row in the `poverty` table for that country. To compute the population living in poverty from a poverty percentage, multiply by the population of the country **in that year**.\n",
    "\n",
    "*Hint*: The names within the `poverty_timeline` function correspond to our staff solution, but you don't need to use them. Any way that you want to draw the plot is fine, as long as it generates the correct graph.\n",
    "\n",
    "*Hint*: For the `apply` method, if you don't specify a particular column to apply your function on, the whole row is used as an input to the function. Elements inside a row can be accessed using `.item`.\n",
    "\n",
    "*Hint:* This question is long. Feel free to create cells and experiment. "
   ]
  },
  {
   "cell_type": "code",
   "execution_count": 66,
   "metadata": {
    "deletable": false,
    "manual_grade": true,
    "manual_problem_id": "global_poverty_6"
   },
   "outputs": [
    {
     "data": {
      "text/html": [
       "<table border=\"1\" class=\"dataframe\">\n",
       "    <thead>\n",
       "        <tr>\n",
       "            <th>geo</th> <th>time</th> <th>extreme_poverty_percent_people_below_125_a_day</th>\n",
       "        </tr>\n",
       "    </thead>\n",
       "    <tbody>\n",
       "        <tr>\n",
       "            <td>alb </td> <td>1996</td> <td>0.2                                           </td>\n",
       "        </tr>\n",
       "        <tr>\n",
       "            <td>alb </td> <td>2002</td> <td>0.73                                          </td>\n",
       "        </tr>\n",
       "        <tr>\n",
       "            <td>alb </td> <td>2004</td> <td>0.53                                          </td>\n",
       "        </tr>\n",
       "        <tr>\n",
       "            <td>alb </td> <td>2005</td> <td>0.44                                          </td>\n",
       "        </tr>\n",
       "        <tr>\n",
       "            <td>alb </td> <td>2008</td> <td>0.2                                           </td>\n",
       "        </tr>\n",
       "        <tr>\n",
       "            <td>alb </td> <td>2012</td> <td>0.46                                          </td>\n",
       "        </tr>\n",
       "        <tr>\n",
       "            <td>dza </td> <td>1988</td> <td>7.1                                           </td>\n",
       "        </tr>\n",
       "        <tr>\n",
       "            <td>dza </td> <td>1995</td> <td>6.38                                          </td>\n",
       "        </tr>\n",
       "        <tr>\n",
       "            <td>ago </td> <td>2000</td> <td>54.31                                         </td>\n",
       "        </tr>\n",
       "        <tr>\n",
       "            <td>ago </td> <td>2009</td> <td>43.37                                         </td>\n",
       "        </tr>\n",
       "    </tbody>\n",
       "</table>\n",
       "<p>... (1089 rows omitted)</p>"
      ],
      "text/plain": [
       "<IPython.core.display.HTML object>"
      ]
     },
     "metadata": {},
     "output_type": "display_data"
    },
    {
     "data": {
      "text/html": [
       "<table border=\"1\" class=\"dataframe\">\n",
       "    <thead>\n",
       "        <tr>\n",
       "            <th>geo</th> <th>time</th> <th>population_total</th>\n",
       "        </tr>\n",
       "    </thead>\n",
       "    <tbody>\n",
       "        <tr>\n",
       "            <td>abw </td> <td>1800</td> <td>19286           </td>\n",
       "        </tr>\n",
       "        <tr>\n",
       "            <td>abw </td> <td>1801</td> <td>19286           </td>\n",
       "        </tr>\n",
       "        <tr>\n",
       "            <td>abw </td> <td>1802</td> <td>19286           </td>\n",
       "        </tr>\n",
       "        <tr>\n",
       "            <td>abw </td> <td>1803</td> <td>19286           </td>\n",
       "        </tr>\n",
       "        <tr>\n",
       "            <td>abw </td> <td>1804</td> <td>19286           </td>\n",
       "        </tr>\n",
       "        <tr>\n",
       "            <td>abw </td> <td>1805</td> <td>19286           </td>\n",
       "        </tr>\n",
       "        <tr>\n",
       "            <td>abw </td> <td>1806</td> <td>19286           </td>\n",
       "        </tr>\n",
       "        <tr>\n",
       "            <td>abw </td> <td>1807</td> <td>19286           </td>\n",
       "        </tr>\n",
       "        <tr>\n",
       "            <td>abw </td> <td>1808</td> <td>19286           </td>\n",
       "        </tr>\n",
       "        <tr>\n",
       "            <td>abw </td> <td>1809</td> <td>19286           </td>\n",
       "        </tr>\n",
       "    </tbody>\n",
       "</table>\n",
       "<p>... (87785 rows omitted)</p>"
      ],
      "text/plain": [
       "<IPython.core.display.HTML object>"
      ]
     },
     "metadata": {},
     "output_type": "display_data"
    },
    {
     "data": {
      "text/html": [
       "<table border=\"1\" class=\"dataframe\">\n",
       "    <thead>\n",
       "        <tr>\n",
       "            <th>geo</th> <th>gwid</th> <th>name</th> <th>world_6region</th> <th>income_groups</th> <th>landlocked</th> <th>g77_and_oecd_countries</th> <th>main_religion_2008</th> <th>gapminder_list</th> <th>alternative_1</th> <th>alternative_2</th> <th>alternative_3</th> <th>alternative_4_cdiac</th> <th>pandg</th> <th>god_id</th> <th>alt_5</th> <th>upper_case_name</th> <th>code</th> <th>number</th> <th>arb1</th> <th>arb2</th> <th>arb3</th> <th>arb4</th> <th>arb5</th> <th>arb6</th> <th>is--country</th> <th>world_4region</th> <th>latitude</th> <th>longitude</th>\n",
       "        </tr>\n",
       "    </thead>\n",
       "    <tbody>\n",
       "        <tr>\n",
       "            <td>afg      </td> <td>i1  </td> <td>Afghanistan          </td> <td>south_asia              </td> <td>low_income         </td> <td>landlocked</td> <td>g77                   </td> <td>muslim            </td> <td>Afghanistan          </td> <td>Islamic Republic of Afghanistan</td> <td>nan          </td> <td>nan          </td> <td>Afghanistan        </td> <td>AFGHANISTAN</td> <td>AF               </td> <td>nan  </td> <td>AFGHANISTAN        </td> <td>AFG </td> <td>4     </td> <td>nan </td> <td>nan </td> <td>nan </td> <td>nan </td> <td>nan </td> <td>nan </td> <td>True       </td> <td>asia         </td> <td>33      </td> <td>66       </td>\n",
       "        </tr>\n",
       "        <tr>\n",
       "            <td>akr_a_dhe</td> <td>i2  </td> <td>Akrotiri and Dhekelia</td> <td>europe_central_asia     </td> <td>nan                </td> <td>coastline </td> <td>others                </td> <td>nan               </td> <td>Akrotiri and Dhekelia</td> <td>nan                            </td> <td>nan          </td> <td>nan          </td> <td>nan                </td> <td>nan        </td> <td>Akrotiri_Dhekelia</td> <td>nan  </td> <td>nan                </td> <td>nan </td> <td>nan   </td> <td>nan </td> <td>nan </td> <td>nan </td> <td>nan </td> <td>nan </td> <td>nan </td> <td>True       </td> <td>europe       </td> <td>nan     </td> <td>nan      </td>\n",
       "        </tr>\n",
       "        <tr>\n",
       "            <td>alb      </td> <td>i3  </td> <td>Albania              </td> <td>europe_central_asia     </td> <td>upper_middle_income</td> <td>coastline </td> <td>others                </td> <td>muslim            </td> <td>Albania              </td> <td>nan                            </td> <td>nan          </td> <td>nan          </td> <td>Albania            </td> <td>ALBANIA    </td> <td>AL               </td> <td>nan  </td> <td>ALBANIA            </td> <td>ALB </td> <td>8     </td> <td>nan </td> <td>nan </td> <td>nan </td> <td>nan </td> <td>nan </td> <td>nan </td> <td>True       </td> <td>europe       </td> <td>41      </td> <td>20       </td>\n",
       "        </tr>\n",
       "        <tr>\n",
       "            <td>dza      </td> <td>i4  </td> <td>Algeria              </td> <td>middle_east_north_africa</td> <td>upper_middle_income</td> <td>coastline </td> <td>g77                   </td> <td>muslim            </td> <td>Algeria              </td> <td>nan                            </td> <td>nan          </td> <td>nan          </td> <td>Algeria            </td> <td>ALGERIA    </td> <td>DZ               </td> <td>nan  </td> <td>ALGERIA            </td> <td>DZA </td> <td>12    </td> <td>nan </td> <td>nan </td> <td>nan </td> <td>nan </td> <td>nan </td> <td>nan </td> <td>True       </td> <td>africa       </td> <td>28      </td> <td>3        </td>\n",
       "        </tr>\n",
       "        <tr>\n",
       "            <td>asm      </td> <td>i5  </td> <td>American Samoa       </td> <td>east_asia_pacific       </td> <td>upper_middle_income</td> <td>coastline </td> <td>others                </td> <td>christian         </td> <td>American Samoa       </td> <td>nan                            </td> <td>nan          </td> <td>nan          </td> <td>nan                </td> <td>nan        </td> <td>AS               </td> <td>nan  </td> <td>AMERICAN SAMOA     </td> <td>ASM </td> <td>16    </td> <td>nan </td> <td>nan </td> <td>nan </td> <td>nan </td> <td>nan </td> <td>nan </td> <td>True       </td> <td>asia         </td> <td>-11.056 </td> <td>-171.082 </td>\n",
       "        </tr>\n",
       "        <tr>\n",
       "            <td>and      </td> <td>i6  </td> <td>Andorra              </td> <td>europe_central_asia     </td> <td>high_income        </td> <td>landlocked</td> <td>others                </td> <td>christian         </td> <td>Andorra              </td> <td>nan                            </td> <td>nan          </td> <td>nan          </td> <td>nan                </td> <td>nan        </td> <td>AD               </td> <td>nan  </td> <td>ANDORRA            </td> <td>AND </td> <td>20    </td> <td>nan </td> <td>nan </td> <td>nan </td> <td>nan </td> <td>nan </td> <td>nan </td> <td>True       </td> <td>europe       </td> <td>42.5078 </td> <td>1.52109  </td>\n",
       "        </tr>\n",
       "        <tr>\n",
       "            <td>ago      </td> <td>i7  </td> <td>Angola               </td> <td>sub_saharan_africa      </td> <td>upper_middle_income</td> <td>coastline </td> <td>g77                   </td> <td>christian         </td> <td>Angola               </td> <td>nan                            </td> <td>nan          </td> <td>nan          </td> <td>Angola             </td> <td>ANGOLA     </td> <td>AO               </td> <td>nan  </td> <td>ANGOLA             </td> <td>AGO </td> <td>24    </td> <td>nan </td> <td>nan </td> <td>nan </td> <td>nan </td> <td>nan </td> <td>nan </td> <td>True       </td> <td>africa       </td> <td>-12.5   </td> <td>18.5     </td>\n",
       "        </tr>\n",
       "        <tr>\n",
       "            <td>aia      </td> <td>i8  </td> <td>Anguilla             </td> <td>america                 </td> <td>nan                </td> <td>coastline </td> <td>others                </td> <td>christian         </td> <td>Anguilla             </td> <td>nan                            </td> <td>nan          </td> <td>nan          </td> <td>nan                </td> <td>nan        </td> <td>AI               </td> <td>nan  </td> <td>ANGUILLA           </td> <td>AIA </td> <td>660   </td> <td>nan </td> <td>nan </td> <td>nan </td> <td>nan </td> <td>nan </td> <td>nan </td> <td>True       </td> <td>americas     </td> <td>18.2167 </td> <td>-63.05   </td>\n",
       "        </tr>\n",
       "        <tr>\n",
       "            <td>atg      </td> <td>i9  </td> <td>Antigua and Barbuda  </td> <td>america                 </td> <td>high_income        </td> <td>coastline </td> <td>g77                   </td> <td>christian         </td> <td>Antigua and Barbuda  </td> <td>nan                            </td> <td>nan          </td> <td>nan          </td> <td>Antigua & Barbuda  </td> <td>nan        </td> <td>AG               </td> <td>nan  </td> <td>ANTIGUA AND BARBUDA</td> <td>ATG </td> <td>28    </td> <td>nan </td> <td>nan </td> <td>nan </td> <td>nan </td> <td>nan </td> <td>nan </td> <td>True       </td> <td>americas     </td> <td>17.05   </td> <td>-61.8    </td>\n",
       "        </tr>\n",
       "        <tr>\n",
       "            <td>arg      </td> <td>i10 </td> <td>Argentina            </td> <td>america                 </td> <td>upper_middle_income</td> <td>coastline </td> <td>g77                   </td> <td>christian         </td> <td>Argentina            </td> <td>nan                            </td> <td>nan          </td> <td>nan          </td> <td>Argentina          </td> <td>ARGENTINA  </td> <td>AR               </td> <td>nan  </td> <td>ARGENTINA          </td> <td>ARG </td> <td>32    </td> <td>nan </td> <td>nan </td> <td>nan </td> <td>nan </td> <td>nan </td> <td>nan </td> <td>True       </td> <td>americas     </td> <td>-34     </td> <td>-64      </td>\n",
       "        </tr>\n",
       "    </tbody>\n",
       "</table>\n",
       "<p>... (245 rows omitted)</p>"
      ],
      "text/plain": [
       "<IPython.core.display.HTML object>"
      ]
     },
     "metadata": {},
     "output_type": "display_data"
    }
   ],
   "source": [
    "poverty.show(10)\n",
    "population.show(10)\n",
    "countries.show(10)\n",
    "def population_for_country_in_year(row_of_poverty_table):\n",
    "    \"\"\"Optional: Define a function to return the population \n",
    "    of a country in a year using a row from the poverty table.\"\"\"\n",
    "    return row_of_poverty_table.item(2) * population.where(\"geo\", row_of_poverty_table.item(0)).where(\"time\", row_of_poverty_table.item(1)).column(2).item(0)\n",
    "\n",
    "def poverty_timeline(country):\n",
    "    \"\"\"Draw a timeline of people living in extreme poverty in a country.\"\"\"\n",
    "    geo = countries.where(\"name\", country).column(\"geo\").item(0) #gives you the alpha code for the name of country passed\n",
    "    #array of the the result of applying above function to every row for the given country\n",
    "    country_poverty = poverty.where(\"geo\", geo).apply(population_for_country_in_year)\n",
    "    final_table = Table().with_columns(\"time\", poverty.where(\"geo\",geo).column(\"time\"), \"People Living in Poverty\", country_poverty)\n",
    "    return final_table.plot(0,1)\n",
    "    "
   ]
  },
  {
   "cell_type": "markdown",
   "metadata": {
    "deletable": false,
    "editable": false
   },
   "source": [
    "Finally, draw the timelines below to see how the world is changing. You can check your work by comparing your graphs to the ones on [gapminder.org](https://goo.gl/lPujuh)."
   ]
  },
  {
   "cell_type": "code",
   "execution_count": 67,
   "metadata": {
    "deletable": false,
    "editable": false
   },
   "outputs": [
    {
     "data": {
      "image/png": "[encoded data removed]",
      "text/plain": [
       "<Figure size 432x288 with 1 Axes>"
      ]
     },
     "metadata": {},
     "output_type": "display_data"
    }
   ],
   "source": [
    "poverty_timeline('India')"
   ]
  },
  {
   "cell_type": "code",
   "execution_count": 68,
   "metadata": {
    "deletable": false,
    "editable": false
   },
   "outputs": [
    {
     "data": {
      "image/png": "[encoded data removed]",
      "text/plain": [
       "<Figure size 432x288 with 1 Axes>"
      ]
     },
     "metadata": {},
     "output_type": "display_data"
    }
   ],
   "source": [
    "poverty_timeline('Nigeria')"
   ]
  },
  {
   "cell_type": "code",
   "execution_count": 69,
   "metadata": {
    "deletable": false,
    "editable": false
   },
   "outputs": [
    {
     "data": {
      "image/png": "[encoded data removed]",
      "text/plain": [
       "<Figure size 432x288 with 1 Axes>"
      ]
     },
     "metadata": {},
     "output_type": "display_data"
    }
   ],
   "source": [
    "poverty_timeline('China')"
   ]
  },
  {
   "cell_type": "code",
   "execution_count": 70,
   "metadata": {
    "deletable": false,
    "editable": false
   },
   "outputs": [
    {
     "data": {
      "image/png": "[encoded data removed]",
      "text/plain": [
       "<Figure size 432x288 with 1 Axes>"
      ]
     },
     "metadata": {},
     "output_type": "display_data"
    }
   ],
   "source": [
    "poverty_timeline('United States')"
   ]
  },
  {
   "cell_type": "markdown",
   "metadata": {
    "deletable": false,
    "editable": false
   },
   "source": [
    "Although the number of people living in extreme poverty has been increasing in Nigeria and the United States, the massive decreases in China and India have shaped the overall trend that extreme poverty is decreasing worldwide, both in percentage and in absolute number. \n",
    "\n",
    "To learn more, watch [Hans Rosling in a 2015 film](https://www.gapminder.org/videos/dont-panic-end-poverty/) about the UN goal of eradicating extreme poverty from the world. \n",
    "\n",
    "Below, we've also added an interactive dropdown menu for you to visualize `poverty_timeline` graphs for other countries. Note that each dropdown menu selection may take a few seconds to run."
   ]
  },
  {
   "cell_type": "code",
   "execution_count": 71,
   "metadata": {
    "deletable": false,
    "editable": false
   },
   "outputs": [
    {
     "data": {
      "application/vnd.jupyter.widget-view+json": {
       "model_id": "085b37e93c7c49a19a7a646be88d9a26",
       "version_major": 2,
       "version_minor": 0
      },
      "text/plain": [
       "interactive(children=(Dropdown(description='country', options=('Angola', 'Albania', 'Argentina', 'Armenia', 'A…"
      ]
     },
     "metadata": {},
     "output_type": "display_data"
    }
   ],
   "source": [
    "# Just run this cell\n",
    "\n",
    "all_countries = poverty_map.column('name')\n",
    "_ = widgets.interact(poverty_timeline, country=list(all_countries))"
   ]
  },
  {
   "cell_type": "markdown",
   "metadata": {
    "deletable": false,
    "editable": false
   },
   "source": [
    "**You're finished!** Congratulations on mastering data visualization and table manipulation. Time to submit."
   ]
  },
  {
   "cell_type": "code",
   "execution_count": 73,
   "metadata": {
    "deletable": false,
    "editable": false
   },
   "outputs": [
    {
     "data": {
      "application/javascript": [
       "IPython.notebook.save_checkpoint();"
      ],
      "text/plain": [
       "<IPython.core.display.Javascript object>"
      ]
     },
     "metadata": {},
     "output_type": "display_data"
    },
    {
     "data": {
      "application/javascript": [
       "IPython.notebook.save_notebook();"
      ],
      "text/plain": [
       "<IPython.core.display.Javascript object>"
      ]
     },
     "metadata": {},
     "output_type": "display_data"
    },
    {
     "name": "stdout",
     "output_type": "stream",
     "text": [
      "Saving notebook... Saved 'project1.ipynb'.\n",
      "Submit... 100% complete\n",
      "Submission successful for user: rga2uz@virginia.edu\n",
      "URL: https://okpy.org/uva/stat_1602/fa19/project1/submissions/6XrGQn\n",
      "\n"
     ]
    }
   ],
   "source": [
    "_ = ok.submit()"
   ]
  },
  {
   "cell_type": "code",
   "execution_count": null,
   "metadata": {},
   "outputs": [],
   "source": []
  }
 ],
 "metadata": {
  "kernelspec": {
   "display_name": "Python 3",
   "language": "python",
   "name": "python3"
  },
  "language_info": {
   "codemirror_mode": {
    "name": "ipython",
    "version": 3
   },
   "file_extension": ".py",
   "mimetype": "text/x-python",
   "name": "python",
   "nbconvert_exporter": "python",
   "pygments_lexer": "ipython3",
   "version": "3.7.4"
  }
 },
 "nbformat": 4,
 "nbformat_minor": 1
}
