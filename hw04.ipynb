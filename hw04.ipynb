{
 "cells": [
  {
   "cell_type": "markdown",
   "metadata": {},
   "source": [
    "# Homework 4: Functions, Histograms, and Groups"
   ]
  },
  {
   "cell_type": "markdown",
   "metadata": {},
   "source": [
    "**Reading**: \n",
    "\n",
    "* [Visualizing Numerical Distributions](https://www.inferentialthinking.com/chapters/07/2/visualizing-numerical-distributions.html) \n",
    "* [Functions and Tables](https://www.inferentialthinking.com/chapters/08/functions-and-tables.html)"
   ]
  },
  {
   "cell_type": "markdown",
   "metadata": {},
   "source": [
    "Please complete this notebook by filling in the cells provided. Before you begin, execute the following cell to load the provided tests. Each time you start your server, you will need to execute this cell again to load the tests.\n",
    "\n",
    "Homework 4 is due Tuesday the 24th at 11:59pm. Start early so that you can come to office hours if you're stuck. Check the website for the office hours schedule, and post questions to the Slack channel.\n",
    "\n",
    "Throughout this homework and all future ones, please be sure to not re-assign variables throughout the notebook! For example, if you use `max_temperature` in your answer to one question, do not reassign it later on. Moreover, please be sure to only put your written answers in the provided cells. "
   ]
  },
  {
   "cell_type": "code",
   "execution_count": 90,
   "metadata": {},
   "outputs": [
    {
     "name": "stdout",
     "output_type": "stream",
     "text": [
      "=====================================================================\n",
      "Assignment: Homework 4: Functions, Histograms, and Groups\n",
      "OK, version v1.14.15\n",
      "=====================================================================\n",
      "\n",
      "Successfully logged in as rga2uz@virginia.edu\n"
     ]
    }
   ],
   "source": [
    "# Don't change this cell; just run it. \n",
    "\n",
    "import numpy as np\n",
    "from datascience import *\n",
    "\n",
    "# These lines do some fancy plotting magic.\\n\",\n",
    "import matplotlib\n",
    "%matplotlib inline\n",
    "import matplotlib.pyplot as plots\n",
    "plots.style.use('fivethirtyeight')\n",
    "\n",
    "from client.api.notebook import Notebook\n",
    "ok = Notebook('hw04.ok')\n",
    "_ = ok.auth(inline=True)"
   ]
  },
  {
   "cell_type": "markdown",
   "metadata": {},
   "source": [
    "## 1. Working with Text using Functions\n"
   ]
  },
  {
   "cell_type": "markdown",
   "metadata": {},
   "source": [
    "The following table contains the words from four chapters of Charles Dickens' [*A Tale of Two Cities*](http://www.gutenberg.org/cache/epub/98/pg98.txt).  We're going to compute some simple facts about each chapter.  Since we're performing the same computation on each chapter, it's best to encapsulate each computational procedure in a function, and then call the function several times. Run the cell to get a table with one column."
   ]
  },
  {
   "cell_type": "code",
   "execution_count": 91,
   "metadata": {},
   "outputs": [
    {
     "data": {
      "text/html": [
       "<table border=\"1\" class=\"dataframe\">\n",
       "    <thead>\n",
       "        <tr>\n",
       "            <th>Chapter text</th>\n",
       "        </tr>\n",
       "    </thead>\n",
       "    <tbody>\n",
       "        <tr>\n",
       "            <td>I. The Period\n",
       "\n",
       "\n",
       "It was the best of times,\n",
       "it was the wor ...</td>\n",
       "        </tr>\n",
       "        <tr>\n",
       "            <td>II. The Mail\n",
       "\n",
       "\n",
       "It was the Dover road that lay, on a Frid ...</td>\n",
       "        </tr>\n",
       "        <tr>\n",
       "            <td>III. The Night Shadows\n",
       "\n",
       "\n",
       "A wonderful fact to reflect upo ...</td>\n",
       "        </tr>\n",
       "        <tr>\n",
       "            <td>IV. The Preparation\n",
       "\n",
       "\n",
       "When the mail got successfully to  ...</td>\n",
       "        </tr>\n",
       "    </tbody>\n",
       "</table>"
      ],
      "text/plain": [
       "Chapter text\n",
       "I. The Period\n",
       "\n",
       "\n",
       "It was the best of times,\n",
       "it was the wor ...\n",
       "II. The Mail\n",
       "\n",
       "\n",
       "It was the Dover road that lay, on a Frid ...\n",
       "III. The Night Shadows\n",
       "\n",
       "\n",
       "A wonderful fact to reflect upo ...\n",
       "IV. The Preparation\n",
       "\n",
       "\n",
       "When the mail got successfully to  ..."
      ]
     },
     "execution_count": 91,
     "metadata": {},
     "output_type": "execute_result"
    }
   ],
   "source": [
    "# Just run this cell to load the data.\n",
    "tale_chapters = Table.read_table(\"tale.csv\")\n",
    "tale_chapters"
   ]
  },
  {
   "cell_type": "markdown",
   "metadata": {},
   "source": [
    "**Question 1.** Write a function called `word_count` that takes a single argument, the text of a single chapter, and returns the number of words in that chapter.  Assume that words are separated from each other by spaces. \n",
    "\n",
    "*Hint:* Try the string method [`split`](https://docs.python.org/3/library/stdtypes.html#str.split) and the function [`len`](https://docs.python.org/3/library/functions.html#len)."
   ]
  },
  {
   "cell_type": "code",
   "execution_count": 92,
   "metadata": {
    "for_assignment_type": "student"
   },
   "outputs": [
    {
     "data": {
      "text/plain": [
       "911"
      ]
     },
     "execution_count": 92,
     "metadata": {},
     "output_type": "execute_result"
    }
   ],
   "source": [
    "def word_count(text):\n",
    "    return len(text.split(\" \"))\n",
    "\n",
    "word_count(tale_chapters.column(\"Chapter text\").item(0))"
   ]
  },
  {
   "cell_type": "code",
   "execution_count": 93,
   "metadata": {
    "deletable": false
   },
   "outputs": [
    {
     "name": "stdout",
     "output_type": "stream",
     "text": [
      "~~~~~~~~~~~~~~~~~~~~~~~~~~~~~~~~~~~~~~~~~~~~~~~~~~~~~~~~~~~~~~~~~~~~~\n",
      "Running tests\n",
      "\n",
      "---------------------------------------------------------------------\n",
      "Test summary\n",
      "    Passed: 1\n",
      "    Failed: 0\n",
      "[ooooooooook] 100.0% passed\n",
      "\n"
     ]
    }
   ],
   "source": [
    "_ = ok.grade('q1_1')"
   ]
  },
  {
   "cell_type": "markdown",
   "metadata": {},
   "source": [
    "**Question 2.** Create an array called `chapter_lengths` which contains the length of each chapter in `tale_chapters`.\n",
    "\n",
    "**Hint:** Consider using `apply` along with the function you have defined in the previous question."
   ]
  },
  {
   "cell_type": "code",
   "execution_count": 94,
   "metadata": {},
   "outputs": [
    {
     "data": {
      "text/plain": [
       "array([ 911, 1827, 1468, 3994])"
      ]
     },
     "execution_count": 94,
     "metadata": {},
     "output_type": "execute_result"
    }
   ],
   "source": [
    "chapter_lengths = tale_chapters.apply(word_count, \"Chapter text\")\n",
    "chapter_lengths"
   ]
  },
  {
   "cell_type": "code",
   "execution_count": 95,
   "metadata": {
    "deletable": false
   },
   "outputs": [
    {
     "name": "stdout",
     "output_type": "stream",
     "text": [
      "~~~~~~~~~~~~~~~~~~~~~~~~~~~~~~~~~~~~~~~~~~~~~~~~~~~~~~~~~~~~~~~~~~~~~\n",
      "Running tests\n",
      "\n",
      "---------------------------------------------------------------------\n",
      "Test summary\n",
      "    Passed: 1\n",
      "    Failed: 0\n",
      "[ooooooooook] 100.0% passed\n",
      "\n"
     ]
    }
   ],
   "source": [
    "_ = ok.grade('q1_2')"
   ]
  },
  {
   "cell_type": "markdown",
   "metadata": {},
   "source": [
    "**Question 3.** Write a function called `character_count`.  It should take a string as its argument and return the number of characters in that string that aren't spaces (\" \"), periods (\".\"), exclamation marks (\"!\"), or question marks (\"?\"). Remember that `tale_chapters` is a table, and that the function takes in only the text of one chapter as input.\n",
    "\n",
    "*Hint:* Try using the string method `replace` several times to remove the characters we don't want to count."
   ]
  },
  {
   "cell_type": "code",
   "execution_count": 96,
   "metadata": {
    "for_assignment_type": "student"
   },
   "outputs": [],
   "source": [
    "def character_count(string):\n",
    "    return len(string.replace(\" \",\"\").replace(\".\",\"\").replace(\"!\",\"\").replace(\"?\",\"\"))"
   ]
  },
  {
   "cell_type": "code",
   "execution_count": 97,
   "metadata": {
    "deletable": false
   },
   "outputs": [
    {
     "name": "stdout",
     "output_type": "stream",
     "text": [
      "~~~~~~~~~~~~~~~~~~~~~~~~~~~~~~~~~~~~~~~~~~~~~~~~~~~~~~~~~~~~~~~~~~~~~\n",
      "Running tests\n",
      "\n",
      "---------------------------------------------------------------------\n",
      "Test summary\n",
      "    Passed: 1\n",
      "    Failed: 0\n",
      "[ooooooooook] 100.0% passed\n",
      "\n"
     ]
    }
   ],
   "source": [
    "_ = ok.grade('q1_3')"
   ]
  },
  {
   "cell_type": "markdown",
   "metadata": {},
   "source": [
    "**Question 4.** Write a function called `chapter_number`.  It should take a single argument, the text of a chapter from our dataset, and return the number of that chapter, as a Roman numeral.  (For example, it should return the string \"I\" for the first chapter and \"II\" for the second.)  If the argument doesn't have a chapter number in the same place as the chapters in our dataset, `chapter_number` can return whatever you like.\n",
    "\n",
    "To help you with this, we've included a function called `text_before`.  Its documentation describes what it does."
   ]
  },
  {
   "cell_type": "code",
   "execution_count": 98,
   "metadata": {},
   "outputs": [],
   "source": [
    "def text_before(full_text, pattern):\n",
    "    \"\"\"Finds all the text that occurs in full_text before the specified pattern.\n",
    "\n",
    "    Parameters\n",
    "    ----------\n",
    "    full_text : str\n",
    "        The text we want to search within.\n",
    "    pattern : str\n",
    "        The thing we want to search for.\n",
    "\n",
    "    Returns\n",
    "    -------\n",
    "    str\n",
    "        All the text that occurs in full_text before pattern.  If pattern\n",
    "        doesn't appear anywhere, all of full_text is returned.\n",
    "    \n",
    "    Examples\n",
    "    --------\n",
    "    \n",
    "    >>> text_before(\"The rain in Spain falls mainly on the plain.\", \"Spain\")\n",
    "    'The rain in '\n",
    "    >>> text_before(\"The rain in Spain falls mainly on the plain.\", \"ain\")\n",
    "    'The r'\n",
    "    >>> text_before(\"The rain in Spain falls mainly on the plain.\", \"Portugal\")\n",
    "    'The rain in Spain falls mainly on the plain.'\n",
    "    \"\"\"\n",
    "    return np.array(full_text.split(pattern)).item(0)\n",
    "\n",
    "def chapter_number(chapter_text):\n",
    "    return text_before(chapter_text, \".\")"
   ]
  },
  {
   "cell_type": "code",
   "execution_count": 99,
   "metadata": {
    "deletable": false
   },
   "outputs": [
    {
     "name": "stdout",
     "output_type": "stream",
     "text": [
      "~~~~~~~~~~~~~~~~~~~~~~~~~~~~~~~~~~~~~~~~~~~~~~~~~~~~~~~~~~~~~~~~~~~~~\n",
      "Running tests\n",
      "\n",
      "---------------------------------------------------------------------\n",
      "Test summary\n",
      "    Passed: 1\n",
      "    Failed: 0\n",
      "[ooooooooook] 100.0% passed\n",
      "\n"
     ]
    }
   ],
   "source": [
    "_ = ok.grade('q1_4')"
   ]
  },
  {
   "cell_type": "markdown",
   "metadata": {},
   "source": [
    "## 2. Uber\n"
   ]
  },
  {
   "cell_type": "markdown",
   "metadata": {},
   "source": [
    "Below we load tables containing 200,000 weekday Uber rides in the Manila, Philippines, and Boston, Massachusetts metropolitan areas from the [Uber Movement](https://movement.uber.com) project. The `sourceid` and `dstid` columns contain codes corresponding to start and end locations of each ride. The `hod` column contains codes corresponding to the hour of the day the ride took place. The `ride time` table contains the length of the ride, in minutes."
   ]
  },
  {
   "cell_type": "code",
   "execution_count": 100,
   "metadata": {
    "for_question_type": "solution",
    "scrolled": true
   },
   "outputs": [
    {
     "name": "stdout",
     "output_type": "stream",
     "text": [
      "Boston Table\n"
     ]
    },
    {
     "data": {
      "text/html": [
       "<table border=\"1\" class=\"dataframe\">\n",
       "    <thead>\n",
       "        <tr>\n",
       "            <th>sourceid</th> <th>dstid</th> <th>hod</th> <th>ride time</th>\n",
       "        </tr>\n",
       "    </thead>\n",
       "    <tbody>\n",
       "        <tr>\n",
       "            <td>584     </td> <td>33   </td> <td>7   </td> <td>11.866   </td>\n",
       "        </tr>\n",
       "        <tr>\n",
       "            <td>1013    </td> <td>1116 </td> <td>13  </td> <td>17.7993  </td>\n",
       "        </tr>\n",
       "        <tr>\n",
       "            <td>884     </td> <td>1190 </td> <td>22  </td> <td>19.3488  </td>\n",
       "        </tr>\n",
       "        <tr>\n",
       "            <td>211     </td> <td>364  </td> <td>1   </td> <td>1.7235   </td>\n",
       "        </tr>\n",
       "    </tbody>\n",
       "</table>\n",
       "<p>... (199996 rows omitted)</p>"
      ],
      "text/plain": [
       "<IPython.core.display.HTML object>"
      ]
     },
     "metadata": {},
     "output_type": "display_data"
    },
    {
     "name": "stdout",
     "output_type": "stream",
     "text": [
      "Manila Table\n"
     ]
    },
    {
     "data": {
      "text/html": [
       "<table border=\"1\" class=\"dataframe\">\n",
       "    <thead>\n",
       "        <tr>\n",
       "            <th>sourceid</th> <th>dstid</th> <th>hod</th> <th>ride time</th>\n",
       "        </tr>\n",
       "    </thead>\n",
       "    <tbody>\n",
       "        <tr>\n",
       "            <td>544     </td> <td>5    </td> <td>22  </td> <td>22.8115  </td>\n",
       "        </tr>\n",
       "        <tr>\n",
       "            <td>302     </td> <td>240  </td> <td>21  </td> <td>7.02267  </td>\n",
       "        </tr>\n",
       "        <tr>\n",
       "            <td>278     </td> <td>99   </td> <td>16  </td> <td>21.6437  </td>\n",
       "        </tr>\n",
       "        <tr>\n",
       "            <td>720     </td> <td>775  </td> <td>18  </td> <td>13.0597  </td>\n",
       "        </tr>\n",
       "    </tbody>\n",
       "</table>\n",
       "<p>... (199996 rows omitted)</p>"
      ],
      "text/plain": [
       "<IPython.core.display.HTML object>"
      ]
     },
     "metadata": {},
     "output_type": "display_data"
    }
   ],
   "source": [
    "boston = Table.read_table(\"boston.csv\")\n",
    "manila = Table.read_table(\"manila.csv\")\n",
    "print(\"Boston Table\")\n",
    "boston.show(4)\n",
    "print(\"Manila Table\")\n",
    "manila.show(4)"
   ]
  },
  {
   "cell_type": "markdown",
   "metadata": {},
   "source": [
    "**Question 1.**\n",
    "Produce histograms of all ride times in Boston and in Manila, using the given bins. Please put the code for both of them in the following cell, and put the ride times for Boston first.  "
   ]
  },
  {
   "cell_type": "code",
   "execution_count": 101,
   "metadata": {
    "deletable": false,
    "manual_problem_id": "uber_1"
   },
   "outputs": [
    {
     "data": {
      "image/png": "[encoded data removed]",
      "text/plain": [
       "<Figure size 432x288 with 1 Axes>"
      ]
     },
     "metadata": {},
     "output_type": "display_data"
    },
    {
     "data": {
      "image/png": "[encoded data removed]",
      "text/plain": [
       "<Figure size 432x288 with 1 Axes>"
      ]
     },
     "metadata": {},
     "output_type": "display_data"
    }
   ],
   "source": [
    "bins = np.arange(0, 120, 5)\n",
    "boston.hist(\"ride time\", bins = bins)\n",
    "manila.hist(\"ride time\", bins = bins)"
   ]
  },
  {
   "cell_type": "markdown",
   "metadata": {},
   "source": [
    "**Question 2.** Set the two variables below to estimates of what percentage of rides are less than 10 minutes in Boston and Manila. Find your estimates by visually assessing the histograms. Your solution should consist of only mathematical operations and numbers."
   ]
  },
  {
   "cell_type": "code",
   "execution_count": 102,
   "metadata": {
    "deletable": false,
    "manual_problem_id": "uber_2"
   },
   "outputs": [],
   "source": [
    "\n",
    "boston_under_10 = (5 * 1.25) + (5 * 3.25)\n",
    "manila_under_10 = (5 * 0.6) + (5 * 1.45)"
   ]
  },
  {
   "cell_type": "markdown",
   "metadata": {},
   "source": [
    "**Question 3.** Comment on the main difference between the two histograms. What might be causing this?"
   ]
  },
  {
   "cell_type": "markdown",
   "metadata": {
    "deletable": false,
    "for_assignment_type": "student",
    "manual_problem_id": "uber_3"
   },
   "source": [
    "**Your Answer Here**: The median ride time in Boston is smaller, and the spread of the ride times is larger in Manila. This could be due to the fact that Manila is a more densely populated city, and traffic is worse. Manila may also have worse infrastructure that makes traveling more difficult/ lengthy.  "
   ]
  },
  {
   "cell_type": "markdown",
   "metadata": {},
   "source": [
    "**Question 4.** The `hod` column in each table represents the hour of the day during which the Uber was called. 0 corresponds to 12-1 AM, 1 to 1-2 AM, 13 to 1-2 PM, etc. Write a function which takes in a table like `boston` or `manila`, and an `hod` number between 0 and 23, and displays a histogram of ride lengths from that hour in that city. Use the same bins as before."
   ]
  },
  {
   "cell_type": "code",
   "execution_count": 103,
   "metadata": {
    "deletable": false,
    "for_assignment_type": "student"
   },
   "outputs": [
    {
     "data": {
      "image/png": "[encoded data removed]",
      "text/plain": [
       "<Figure size 432x288 with 1 Axes>"
      ]
     },
     "metadata": {},
     "output_type": "display_data"
    },
    {
     "data": {
      "image/png": "[encoded data removed]",
      "text/plain": [
       "<Figure size 432x288 with 1 Axes>"
      ]
     },
     "metadata": {},
     "output_type": "display_data"
    }
   ],
   "source": [
    "def hist_for_time(tbl, hod):\n",
    "    bins = np.arange(0, 120, 5)\n",
    "    table = tbl.where(\"hod\",hod)\n",
    "    return table.hist(\"ride time\", bins = bins)\n",
    "\n",
    "#DO NOT DELETE THIS LINE! \n",
    "hist_for_time(boston, 12)\n",
    "hist_for_time(manila, 12)"
   ]
  },
  {
   "cell_type": "markdown",
   "metadata": {},
   "source": [
    "**Question 5.** Which city has a larger difference between Uber ride times at 10 AM vs. 10 PM? In other words, which is larger: the difference between 10 AM and 10 PM Uber ride times in Manila or the difference between 10 AM and 10 PM uber ride times in Boston. Use the function you just created to answer this question. You do not need to calculate an actual difference.\n",
    "\n",
    "Assign `larger_diff` to the number 1 if the answer is Manila, and 2 if the answer is Boston. "
   ]
  },
  {
   "cell_type": "code",
   "execution_count": 106,
   "metadata": {
    "deletable": false,
    "for_assignment_type": "student",
    "manual_problem_id": "manual_grading"
   },
   "outputs": [
    {
     "data": {
      "image/png": "[encoded data removed]",
      "text/plain": [
       "<Figure size 432x288 with 1 Axes>"
      ]
     },
     "metadata": {},
     "output_type": "display_data"
    },
    {
     "data": {
      "image/png": "[encoded data removed]",
      "text/plain": [
       "<Figure size 432x288 with 1 Axes>"
      ]
     },
     "metadata": {},
     "output_type": "display_data"
    },
    {
     "data": {
      "image/png": "[encoded data removed]",
      "text/plain": [
       "<Figure size 432x288 with 1 Axes>"
      ]
     },
     "metadata": {},
     "output_type": "display_data"
    },
    {
     "data": {
      "image/png": "[encoded data removed]",
      "text/plain": [
       "<Figure size 432x288 with 1 Axes>"
      ]
     },
     "metadata": {},
     "output_type": "display_data"
    }
   ],
   "source": [
    "hist_for_time(boston, 10)\n",
    "hist_for_time(boston, 22)\n",
    "hist_for_time(manila, 10)\n",
    "hist_for_time(manila, 22)\n",
    "larger_diff = 1"
   ]
  },
  {
   "cell_type": "code",
   "execution_count": 107,
   "metadata": {
    "deletable": false
   },
   "outputs": [
    {
     "name": "stdout",
     "output_type": "stream",
     "text": [
      "~~~~~~~~~~~~~~~~~~~~~~~~~~~~~~~~~~~~~~~~~~~~~~~~~~~~~~~~~~~~~~~~~~~~~\n",
      "Running tests\n",
      "\n",
      "---------------------------------------------------------------------\n",
      "Test summary\n",
      "    Passed: 1\n",
      "    Failed: 0\n",
      "[ooooooooook] 100.0% passed\n",
      "\n"
     ]
    }
   ],
   "source": [
    "_ = ok.grade('q2_5')"
   ]
  },
  {
   "cell_type": "markdown",
   "metadata": {},
   "source": [
    "## 3. Faculty salaries\n"
   ]
  },
  {
   "cell_type": "markdown",
   "metadata": {},
   "source": [
    "In the next cell, we load a dataset created by the Cavalier Daily that is now available in [this Github repo](https://github.com/jennhuck/faculty-salaries-2017). It contains UVa faculty, their departments, their positions, and their gross salaries in 2017."
   ]
  },
  {
   "cell_type": "code",
   "execution_count": 108,
   "metadata": {},
   "outputs": [
    {
     "data": {
      "text/html": [
       "<table border=\"1\" class=\"dataframe\">\n",
       "    <thead>\n",
       "        <tr>\n",
       "            <th>Full.Name</th> <th>Job.Title</th> <th>Org.Major.Budget.Unit</th> <th>Annual.Salary</th>\n",
       "        </tr>\n",
       "    </thead>\n",
       "    <tbody>\n",
       "        <tr>\n",
       "            <td> Bronco Clay</td> <td>Unit Paid Employee (Faculty)     </td> <td>AT-Athletics             </td> <td>2.86654e+06  </td>\n",
       "        </tr>\n",
       "        <tr>\n",
       "            <td> Richard P  </td> <td>Professor                        </td> <td>HS-EVP for Health Affairs</td> <td>742600       </td>\n",
       "        </tr>\n",
       "        <tr>\n",
       "            <td> David S.   </td> <td>Professor                        </td> <td>MD-School of Medicine    </td> <td>600000       </td>\n",
       "        </tr>\n",
       "        <tr>\n",
       "            <td> Jayakrishna</td> <td>Professor                        </td> <td>MD-School of Medicine    </td> <td>590400       </td>\n",
       "        </tr>\n",
       "        <tr>\n",
       "            <td> Irving L   </td> <td>Professor                        </td> <td>MD-School of Medicine    </td> <td>561100       </td>\n",
       "        </tr>\n",
       "        <tr>\n",
       "            <td> Teresa A.  </td> <td>President University of Virginia </td> <td>PR-President's Office    </td> <td>559830       </td>\n",
       "        </tr>\n",
       "        <tr>\n",
       "            <td> Robert O   </td> <td>Assoc Head Coach/Coord-FBASCHC153</td> <td>AT-Athletics             </td> <td>550000       </td>\n",
       "        </tr>\n",
       "        <tr>\n",
       "            <td> Scott C    </td> <td>Professor                        </td> <td>DA-Darden School         </td> <td>540800       </td>\n",
       "        </tr>\n",
       "        <tr>\n",
       "            <td> Larry      </td> <td>Lecturer                         </td> <td>HS-EVP for Health Affairs</td> <td>525000       </td>\n",
       "        </tr>\n",
       "        <tr>\n",
       "            <td> Patrick D. </td> <td>Chief Operating Officer-GA155    </td> <td>CO-Exec VP/COO           </td> <td>501600       </td>\n",
       "        </tr>\n",
       "    </tbody>\n",
       "</table>\n",
       "<p>... (10668 rows omitted)</p>"
      ],
      "text/plain": [
       "Full.Name    | Job.Title                         | Org.Major.Budget.Unit     | Annual.Salary\n",
       " Bronco Clay | Unit Paid Employee (Faculty)      | AT-Athletics              | 2.86654e+06\n",
       " Richard P   | Professor                         | HS-EVP for Health Affairs | 742600\n",
       " David S.    | Professor                         | MD-School of Medicine     | 600000\n",
       " Jayakrishna | Professor                         | MD-School of Medicine     | 590400\n",
       " Irving L    | Professor                         | MD-School of Medicine     | 561100\n",
       " Teresa A.   | President University of Virginia  | PR-President's Office     | 559830\n",
       " Robert O    | Assoc Head Coach/Coord-FBASCHC153 | AT-Athletics              | 550000\n",
       " Scott C     | Professor                         | DA-Darden School          | 540800\n",
       " Larry       | Lecturer                          | HS-EVP for Health Affairs | 525000\n",
       " Patrick D.  | Chief Operating Officer-GA155     | CO-Exec VP/COO            | 501600\n",
       "... (10668 rows omitted)"
      ]
     },
     "execution_count": 108,
     "metadata": {},
     "output_type": "execute_result"
    }
   ],
   "source": [
    "profs = Table.read_table(\"uva_salaries.csv\")\n",
    "profs\n",
    "\n",
    "#profs table is already sorted in descending order of salary"
   ]
  },
  {
   "cell_type": "markdown",
   "metadata": {},
   "source": [
    "We want to use this table to generate arrays with the names of each faculty member in each department."
   ]
  },
  {
   "cell_type": "markdown",
   "metadata": {},
   "source": [
    "**Question 1** Set `prof_names` to a table with two columns. The first column should be called \"Org.Major.Budget.Unit\" and have the name of every department once, and the second column should be called \"names\" and contain an *array* of the names of all faculty members in that department. \n",
    "\n",
    "*Hint:* Think about how ```group``` works: it collects values into an array and then applies a function to that array. We have defined two functions below for you, and you will need to use one of them in your call to ```group```."
   ]
  },
  {
   "cell_type": "code",
   "execution_count": 109,
   "metadata": {},
   "outputs": [],
   "source": [
    "# Pick between the two functions defined below \n",
    "def identity(array):\n",
    "    return array \n",
    "\n",
    "def first(array):\n",
    "    return array.item(0)"
   ]
  },
  {
   "cell_type": "code",
   "execution_count": 110,
   "metadata": {},
   "outputs": [
    {
     "data": {
      "text/html": [
       "<table border=\"1\" class=\"dataframe\">\n",
       "    <thead>\n",
       "        <tr>\n",
       "            <th>Org.Major.Budget.Unit</th> <th>names</th>\n",
       "        </tr>\n",
       "    </thead>\n",
       "    <tbody>\n",
       "        <tr>\n",
       "            <td>AR-Architecture School       </td> <td>[' Ila L' ' Elizabeth K ' ' Karen' ' Ignacio Nicolas ' ' ...</td>\n",
       "        </tr>\n",
       "        <tr>\n",
       "            <td>AS-College of Arts & Sciences</td> <td>[' Ian Bernard' ' John T III' ' Donald F ' ... ' Chao'\n",
       "  ...</td>\n",
       "        </tr>\n",
       "        <tr>\n",
       "            <td>AT-Athletics                 </td> <td>[' Bronco Clay' ' Robert O' ' Bronco Clay' ' Ruffin Horn ...</td>\n",
       "        </tr>\n",
       "        <tr>\n",
       "            <td>AT-IM-Sports                 </td> <td>[' Jill' ' Scott Arthur' ' Edward R' ' Susan' ' Jason M' ...</td>\n",
       "        </tr>\n",
       "        <tr>\n",
       "            <td>BA-Frank Batten School       </td> <td>[' Allan C' ' Craig' ' Christopher J' ' William L ' ' Ge ...</td>\n",
       "        </tr>\n",
       "        <tr>\n",
       "            <td>BU-Business Operations       </td> <td>[' Richard A' ' Melissa F' ' Gary D' ' Zhiqiang ' ' Devi ...</td>\n",
       "        </tr>\n",
       "        <tr>\n",
       "            <td>BU-Dining Svcs               </td> <td>[' Linda' ' Dillard W' ' Thersea Mae' ' Gloria J' ' Barb ...</td>\n",
       "        </tr>\n",
       "        <tr>\n",
       "            <td>BU-Housing Div               </td> <td>[' Jessica R' ' Patricia L' ' Steven R ' ' Stephanie Ann ...</td>\n",
       "        </tr>\n",
       "        <tr>\n",
       "            <td>BU-Parking and Transportation</td> <td>[' Rebecca ' ' Andrew Owen ' ' John Parks' ' Stephen Noe ...</td>\n",
       "        </tr>\n",
       "        <tr>\n",
       "            <td>BU-Printing and Copy Services</td> <td>[' Kelly Alan' ' Cathie D' ' Stephen J' ' Melvin E' ' Da ...</td>\n",
       "        </tr>\n",
       "    </tbody>\n",
       "</table>\n",
       "<p>... (67 rows omitted)</p>"
      ],
      "text/plain": [
       "Org.Major.Budget.Unit         | names\n",
       "AR-Architecture School        | [' Ila L' ' Elizabeth K ' ' Karen' ' Ignacio Nicolas ' ' ...\n",
       "AS-College of Arts & Sciences | [' Ian Bernard' ' John T III' ' Donald F ' ... ' Chao'\n",
       "  ...\n",
       "AT-Athletics                  | [' Bronco Clay' ' Robert O' ' Bronco Clay' ' Ruffin Horn ...\n",
       "AT-IM-Sports                  | [' Jill' ' Scott Arthur' ' Edward R' ' Susan' ' Jason M' ...\n",
       "BA-Frank Batten School        | [' Allan C' ' Craig' ' Christopher J' ' William L ' ' Ge ...\n",
       "BU-Business Operations        | [' Richard A' ' Melissa F' ' Gary D' ' Zhiqiang ' ' Devi ...\n",
       "BU-Dining Svcs                | [' Linda' ' Dillard W' ' Thersea Mae' ' Gloria J' ' Barb ...\n",
       "BU-Housing Div                | [' Jessica R' ' Patricia L' ' Steven R ' ' Stephanie Ann ...\n",
       "BU-Parking and Transportation | [' Rebecca ' ' Andrew Owen ' ' John Parks' ' Stephen Noe ...\n",
       "BU-Printing and Copy Services | [' Kelly Alan' ' Cathie D' ' Stephen J' ' Melvin E' ' Da ...\n",
       "... (67 rows omitted)"
      ]
     },
     "execution_count": 110,
     "metadata": {},
     "output_type": "execute_result"
    }
   ],
   "source": [
    "prof_names = profs\n",
    "prof_names = profs.drop(1,3).group(\"Org.Major.Budget.Unit\", identity).relabeled(1, \"names\")\n",
    "prof_names"
   ]
  },
  {
   "cell_type": "code",
   "execution_count": 111,
   "metadata": {
    "deletable": false
   },
   "outputs": [
    {
     "name": "stdout",
     "output_type": "stream",
     "text": [
      "~~~~~~~~~~~~~~~~~~~~~~~~~~~~~~~~~~~~~~~~~~~~~~~~~~~~~~~~~~~~~~~~~~~~~\n",
      "Running tests\n",
      "\n",
      "---------------------------------------------------------------------\n",
      "Test summary\n",
      "    Passed: 1\n",
      "    Failed: 0\n",
      "[ooooooooook] 100.0% passed\n",
      "\n"
     ]
    }
   ],
   "source": [
    "_ = ok.grade('q3_1')"
   ]
  },
  {
   "cell_type": "markdown",
   "metadata": {},
   "source": [
    "**Question 2** At the moment, the ```name``` column is sorted by last name. Would the arrays you generated in the previous part be the same if we had sorted by first name instead before generating them? Two arrays are the **same** if they contain the same number of elements and the elements located at corresponding indexes in the two arrays are identical. Explain your answer. If you feel you need to make certain assumptions about the data, feel free to state them in your response. "
   ]
  },
  {
   "cell_type": "markdown",
   "metadata": {
    "deletable": false,
    "manual_problem_id": "faculty_1"
   },
   "source": [
    "No, the two arrays would not be the same. Group does a sequential search and the function above adds the names to the array in the order in which they appear in the table. Changing the original order would change the resuting array of applying the identity function.\n",
    "\n",
    "(Also, there is no \"name\" column? And the \"names\" column is not currently sorted by last name; the profs table is sorted by salary in descending order)"
   ]
  },
  {
   "cell_type": "markdown",
   "metadata": {},
   "source": [
    "**Question 3** Set `biggest_range_dept` to the name of the department with the largest salary range, where range is defined as the **difference between the lowest and highest salaries in the department**. \n",
    "\n",
    "*Hint:* First you'll need to define a new function `salary_range` which takes in an array of salaries and returns the salary range of the corresponding department. Then, set `department_ranges` to a table containing the names and salary ranges of each department. "
   ]
  },
  {
   "cell_type": "code",
   "execution_count": 112,
   "metadata": {},
   "outputs": [],
   "source": [
    "# Define salary_range in this cell\n",
    "def salary_range(array_of_salaries):\n",
    "    return(int(array_of_salaries[0]) - int(array_of_salaries[-1]))"
   ]
  },
  {
   "cell_type": "code",
   "execution_count": 113,
   "metadata": {},
   "outputs": [
    {
     "data": {
      "text/html": [
       "<table border=\"1\" class=\"dataframe\">\n",
       "    <thead>\n",
       "        <tr>\n",
       "            <th>Org.Major.Budget.Unit</th> <th>Annual.Salary identity</th> <th>Salary Range</th>\n",
       "        </tr>\n",
       "    </thead>\n",
       "    <tbody>\n",
       "        <tr>\n",
       "            <td>AT-Athletics                 </td> <td>[2866538.  550000.  500000.  450000.  420000.  412000.   ...</td> <td>2855913     </td>\n",
       "        </tr>\n",
       "        <tr>\n",
       "            <td>MD-School of Medicine        </td> <td>[600000. 590400. 561100. ...  10576.  10576.  10576.]       </td> <td>589424      </td>\n",
       "        </tr>\n",
       "        <tr>\n",
       "            <td>DA-Darden School             </td> <td>[540800. 393100. 391800. 379100. 371600. 347866. 331500. ...</td> <td>528178      </td>\n",
       "        </tr>\n",
       "        <tr>\n",
       "            <td>PR-President's Office        </td> <td>[559830. 404000. 235900. 206900. 188000. 186200. 164000. ...</td> <td>525205      </td>\n",
       "        </tr>\n",
       "        <tr>\n",
       "            <td>HS-EVP for Health Affairs    </td> <td>[742600. 525000. 250000.]                                   </td> <td>492600      </td>\n",
       "        </tr>\n",
       "        <tr>\n",
       "            <td>AS-College of Arts & Sciences</td> <td>[500000. 465400. 309800. ...  10067.  10056.  10028.]       </td> <td>489972      </td>\n",
       "        </tr>\n",
       "        <tr>\n",
       "            <td>MC-McIntire School           </td> <td>[472200. 317300. 298000. 291800. 285000. 260000. 258000. ...</td> <td>460200      </td>\n",
       "        </tr>\n",
       "        <tr>\n",
       "            <td>CO-Exec VP/COO               </td> <td>[501600. 310000. 235000. 185000. 185000. 182000. 130000. ...</td> <td>449600      </td>\n",
       "        </tr>\n",
       "        <tr>\n",
       "            <td>DV-VP Office                 </td> <td>[464100. 380000. 180000. 174500. 171850. 165000. 165000. ...</td> <td>442600      </td>\n",
       "        </tr>\n",
       "        <tr>\n",
       "            <td>LW-Law School                </td> <td>[453000. 362000. 361500. 340000. 335000. 334000. 332500. ...</td> <td>441300      </td>\n",
       "        </tr>\n",
       "    </tbody>\n",
       "</table>\n",
       "<p>... (67 rows omitted)</p>"
      ],
      "text/plain": [
       "<IPython.core.display.HTML object>"
      ]
     },
     "metadata": {},
     "output_type": "display_data"
    },
    {
     "data": {
      "text/plain": [
       "'AT-Athletics'"
      ]
     },
     "execution_count": 113,
     "metadata": {},
     "output_type": "execute_result"
    }
   ],
   "source": [
    "department_ranges = profs.group(\"Org.Major.Budget.Unit\", identity).drop(1,2)\n",
    "array_of_salary_ranges = department_ranges.apply(salary_range, 1)\n",
    "department_ranges = department_ranges.with_column(\"Salary Range\", array_of_salary_ranges).sort(\"Salary Range\", descending = True)\n",
    "department_ranges.show(10)\n",
    "biggest_range_dept = department_ranges.column(0).item(0)\n",
    "biggest_range_dept"
   ]
  },
  {
   "cell_type": "code",
   "execution_count": 114,
   "metadata": {
    "deletable": false
   },
   "outputs": [
    {
     "name": "stdout",
     "output_type": "stream",
     "text": [
      "~~~~~~~~~~~~~~~~~~~~~~~~~~~~~~~~~~~~~~~~~~~~~~~~~~~~~~~~~~~~~~~~~~~~~\n",
      "Running tests\n",
      "\n",
      "---------------------------------------------------------------------\n",
      "Test summary\n",
      "    Passed: 1\n",
      "    Failed: 0\n",
      "[ooooooooook] 100.0% passed\n",
      "\n"
     ]
    }
   ],
   "source": [
    "_ = ok.grade('q3_3')"
   ]
  },
  {
   "cell_type": "markdown",
   "metadata": {},
   "source": [
    "## 4. Submission\n"
   ]
  },
  {
   "cell_type": "markdown",
   "metadata": {
    "collapsed": true
   },
   "source": [
    "Once you're finished, select \"Save and Checkpoint\" in the File menu and then execute the `submit` cell below. The result will contain a link that you can use to check that your assignment has been submitted successfully. If you submit more than once before the deadline, we will only grade your final submission. If you mistakenly submit the wrong one, you can head to [okpy.org](https://okpy.org/) and flag the correct version. To do so, go to the website, click on this assignment, and find the version you would like to have graded. There should be an option to flag that submission for grading!"
   ]
  },
  {
   "cell_type": "code",
   "execution_count": 117,
   "metadata": {},
   "outputs": [
    {
     "data": {
      "application/javascript": [
       "IPython.notebook.save_checkpoint();"
      ],
      "text/plain": [
       "<IPython.core.display.Javascript object>"
      ]
     },
     "metadata": {},
     "output_type": "display_data"
    },
    {
     "data": {
      "application/javascript": [
       "IPython.notebook.save_notebook();"
      ],
      "text/plain": [
       "<IPython.core.display.Javascript object>"
      ]
     },
     "metadata": {},
     "output_type": "display_data"
    },
    {
     "name": "stdout",
     "output_type": "stream",
     "text": [
      "Saving notebook... Saved 'hw04.ipynb'.\n",
      "Submit... 100% complete\n",
      "Submission successful for user: rga2uz@virginia.edu\n",
      "URL: https://okpy.org/uva/stat_1602/fa19/hw04/submissions/p8EJxy\n",
      "\n"
     ]
    }
   ],
   "source": [
    "_ = ok.submit()"
   ]
  },
  {
   "cell_type": "code",
   "execution_count": 118,
   "metadata": {},
   "outputs": [
    {
     "name": "stdout",
     "output_type": "stream",
     "text": [
      "Running all tests...\n",
      "~~~~~~~~~~~~~~~~~~~~~~~~~~~~~~~~~~~~~~~~~~~~~~~~~~~~~~~~~~~~~~~~~~~~~\n",
      "Running tests\n",
      "\n",
      "---------------------------------------------------------------------\n",
      "Test summary\n",
      "    Passed: 1\n",
      "    Failed: 0\n",
      "[ooooooooook] 100.0% passed\n",
      "\n",
      "~~~~~~~~~~~~~~~~~~~~~~~~~~~~~~~~~~~~~~~~~~~~~~~~~~~~~~~~~~~~~~~~~~~~~\n",
      "Running tests\n",
      "\n",
      "---------------------------------------------------------------------\n",
      "Test summary\n",
      "    Passed: 1\n",
      "    Failed: 0\n",
      "[ooooooooook] 100.0% passed\n",
      "\n",
      "~~~~~~~~~~~~~~~~~~~~~~~~~~~~~~~~~~~~~~~~~~~~~~~~~~~~~~~~~~~~~~~~~~~~~\n",
      "Running tests\n",
      "\n",
      "---------------------------------------------------------------------\n",
      "Test summary\n",
      "    Passed: 1\n",
      "    Failed: 0\n",
      "[ooooooooook] 100.0% passed\n",
      "\n",
      "~~~~~~~~~~~~~~~~~~~~~~~~~~~~~~~~~~~~~~~~~~~~~~~~~~~~~~~~~~~~~~~~~~~~~\n",
      "Running tests\n",
      "\n",
      "---------------------------------------------------------------------\n",
      "Test summary\n",
      "    Passed: 1\n",
      "    Failed: 0\n",
      "[ooooooooook] 100.0% passed\n",
      "\n",
      "~~~~~~~~~~~~~~~~~~~~~~~~~~~~~~~~~~~~~~~~~~~~~~~~~~~~~~~~~~~~~~~~~~~~~\n",
      "Running tests\n",
      "\n",
      "---------------------------------------------------------------------\n",
      "Test summary\n",
      "    Passed: 1\n",
      "    Failed: 0\n",
      "[ooooooooook] 100.0% passed\n",
      "\n",
      "~~~~~~~~~~~~~~~~~~~~~~~~~~~~~~~~~~~~~~~~~~~~~~~~~~~~~~~~~~~~~~~~~~~~~\n",
      "Running tests\n",
      "\n",
      "---------------------------------------------------------------------\n",
      "Test summary\n",
      "    Passed: 1\n",
      "    Failed: 0\n",
      "[ooooooooook] 100.0% passed\n",
      "\n",
      "~~~~~~~~~~~~~~~~~~~~~~~~~~~~~~~~~~~~~~~~~~~~~~~~~~~~~~~~~~~~~~~~~~~~~\n",
      "Running tests\n",
      "\n",
      "---------------------------------------------------------------------\n",
      "Test summary\n",
      "    Passed: 1\n",
      "    Failed: 0\n",
      "[ooooooooook] 100.0% passed\n",
      "\n",
      "Finished running all tests.\n"
     ]
    }
   ],
   "source": [
    "# For your convenience, you can run this cell to run all the tests at once!\n",
    "import os\n",
    "print(\"Running all tests...\")\n",
    "_ = [ok.grade(q[:-3]) for q in os.listdir(\"tests\") if q.startswith('q')]\n",
    "print(\"Finished running all tests.\")"
   ]
  },
  {
   "cell_type": "code",
   "execution_count": null,
   "metadata": {},
   "outputs": [],
   "source": []
  }
 ],
 "metadata": {
  "kernelspec": {
   "display_name": "Python 3",
   "language": "python",
   "name": "python3"
  },
  "language_info": {
   "codemirror_mode": {
    "name": "ipython",
    "version": 3
   },
   "file_extension": ".py",
   "mimetype": "text/x-python",
   "name": "python",
   "nbconvert_exporter": "python",
   "pygments_lexer": "ipython3",
   "version": "3.7.3"
  }
 },
 "nbformat": 4,
 "nbformat_minor": 1
}
